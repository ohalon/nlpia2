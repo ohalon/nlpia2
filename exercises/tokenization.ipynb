{
 "cells": [
  {
   "cell_type": "markdown",
   "metadata": {},
   "source": [
    "Use a regular expression tokenizer when speed is more important than\n",
    "accuracy. If you do not need the additional linguistic tags that spaCy and\n",
    "other pipelines provide, your tokenizer doesn’t need to waste time trying to\n",
    "figure out those tags.6 And each time you use a regular expression in the re or\n",
    "regex packages, a compiled and optimized version of it is cached in RAM. So\n",
    "there’s usually no need to precompile (using re.compile()) your regexes."
   ]
  },
  {
   "cell_type": "code",
   "execution_count": null,
   "metadata": {},
   "outputs": [],
   "source": [
    "import "
   ]
  }
 ],
 "metadata": {
  "kernelspec": {
   "display_name": "nlp",
   "language": "python",
   "name": "python3"
  },
  "language_info": {
   "codemirror_mode": {
    "name": "ipython",
    "version": 3
   },
   "file_extension": ".py",
   "mimetype": "text/x-python",
   "name": "python",
   "nbconvert_exporter": "python",
   "pygments_lexer": "ipython3",
   "version": "3.12.8"
  }
 },
 "nbformat": 4,
 "nbformat_minor": 2
}
