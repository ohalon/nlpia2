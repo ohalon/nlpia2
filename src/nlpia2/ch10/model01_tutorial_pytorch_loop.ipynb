{
 "cells": [
  {
   "cell_type": "markdown",
   "metadata": {
    "id": "EKOTlwcmxmej"
   },
   "source": [
    "# GPT-2 Fine-Tuning Tutorial with PyTorch & Huggingface in Colab\n",
    "\n",
    "\n"
   ]
  },
  {
   "cell_type": "markdown",
   "metadata": {
    "id": "NKGBoVwuhM4H"
   },
   "source": [
    "This is a simplified script for fine-tuning GPT2 using Hugging Face's [Transformers library](https://huggingface.co/transformers/) and PyTorch.\n",
    "\n",
    "You should understand the basics of PyTorch and how a training loop works before getting started. [This official PyTorch tutorial](https://pytorch.org/tutorials/beginner/nn_tutorial.html) serves as an excellent introduction. Familiarity with the workings of GPT2 might be useful but isn't required. The code has been written for clarity and not re-use. I'd advise refactoring it for actual projects. I've liberally taken bits from [Chris McCormick's BERT fine-tuning tutorial](https://mccormickml.com/2019/07/22/BERT-fine-tuning/), [Ian Porter's GPT2 tutorial](https://snappishproductions.com/blog/2020/03/01/chapter-9.5-text-generation-with-gpt-2-and-only-pytorch.html.html) and the [Hugging Face Language model fine-tuning script](https://huggingface.co/transformers/v2.0.0/examples.html#language-model-fine-tuning) so full credit to them. Chris' code has pretty much provided the basis for this script - you should definitely check out his [blog](https://mccormickml.com/tutorials/).\n",
    "\n",
    "I should mention what the script doesn't cover:\n",
    "\n",
    "- Using the [nlp](https://huggingface.co/nlp/) library to load in the dataset and setting up the training workflow, which looks to streamline things rather nicely.\n",
    "- [Accumulated gradients](https://medium.com/huggingface/training-larger-batches-practical-tips-on-1-gpu-multi-gpu-distributed-setups-ec88c3e51255) - this gives larger effective batch sizes than Colab allows (GPT2 is a large model, and anything more than a batch size of 2 would be enough to get a CUDA out of memory error on Colab).\n",
    "- [Freezing layers](https://github.com/huggingface/transformers/issues/1431). This is the process of only changing the parameters in selected layers, made famous by the [ULMFit](https://arxiv.org/abs/1801.06146) process.\n",
    "- [Using 'past'](https://huggingface.co/transformers/quickstart.html#using-the-past) when generating text. This takes in the previous state when generating successive items of text. I didn't need it.\n",
    "- [Tensor packing](https://snappishproductions.com/blog/2020/03/01/chapter-9.5-text-generation-with-gpt-2-and-only-pytorch.html.html). This is a neat way of fitting in as much training data in each batch. \n",
    "- [Hyperparameter search](https://discuss.huggingface.co/t/using-hyperparameter-search-in-trainer/785/10). I settled quickly on values that seemed to produce decent values, without checking if they were optimal."
   ]
  },
  {
   "cell_type": "markdown",
   "metadata": {
    "id": "Xf3Qw77SZGbS"
   },
   "source": [
    "# Setup"
   ]
  },
  {
   "cell_type": "code",
   "execution_count": 1,
   "metadata": {
    "colab": {
     "base_uri": "https://localhost:8080/"
    },
    "execution": {
     "iopub.execute_input": "2023-03-24T06:00:14.694458Z",
     "iopub.status.busy": "2023-03-24T06:00:14.694089Z",
     "iopub.status.idle": "2023-03-24T06:00:18.414440Z",
     "shell.execute_reply": "2023-03-24T06:00:18.413445Z",
     "shell.execute_reply.started": "2023-03-24T06:00:14.694419Z"
    },
    "id": "0NmMdkZO8R6q",
    "outputId": "6363dbcc-816d-4022-9f27-dd28396f33f9"
   },
   "outputs": [
    {
     "name": "stdout",
     "output_type": "stream",
     "text": [
      "Requirement already satisfied: transformers in /usr/local/lib/python3.9/dist-packages (4.21.3)\n",
      "Requirement already satisfied: huggingface-hub<1.0,>=0.1.0 in /usr/local/lib/python3.9/dist-packages (from transformers) (0.12.0)\n",
      "Requirement already satisfied: packaging>=20.0 in /usr/local/lib/python3.9/dist-packages (from transformers) (23.0)\n",
      "Requirement already satisfied: filelock in /usr/local/lib/python3.9/dist-packages (from transformers) (3.9.0)\n",
      "Requirement already satisfied: regex!=2019.12.17 in /usr/local/lib/python3.9/dist-packages (from transformers) (2022.10.31)\n",
      "Requirement already satisfied: requests in /usr/local/lib/python3.9/dist-packages (from transformers) (2.28.2)\n",
      "Requirement already satisfied: pyyaml>=5.1 in /usr/local/lib/python3.9/dist-packages (from transformers) (5.4.1)\n",
      "Requirement already satisfied: tokenizers!=0.11.3,<0.13,>=0.11.1 in /usr/local/lib/python3.9/dist-packages (from transformers) (0.12.1)\n",
      "Requirement already satisfied: tqdm>=4.27 in /usr/local/lib/python3.9/dist-packages (from transformers) (4.64.1)\n",
      "Requirement already satisfied: numpy>=1.17 in /usr/local/lib/python3.9/dist-packages (from transformers) (1.23.4)\n",
      "Requirement already satisfied: typing-extensions>=3.7.4.3 in /usr/local/lib/python3.9/dist-packages (from huggingface-hub<1.0,>=0.1.0->transformers) (4.4.0)\n",
      "Requirement already satisfied: charset-normalizer<4,>=2 in /usr/local/lib/python3.9/dist-packages (from requests->transformers) (2.1.1)\n",
      "Requirement already satisfied: certifi>=2017.4.17 in /usr/lib/python3/dist-packages (from requests->transformers) (2019.11.28)\n",
      "Requirement already satisfied: urllib3<1.27,>=1.21.1 in /usr/local/lib/python3.9/dist-packages (from requests->transformers) (1.26.14)\n",
      "Requirement already satisfied: idna<4,>=2.5 in /usr/lib/python3/dist-packages (from requests->transformers) (2.8)\n",
      "\u001b[33mWARNING: Running pip as the 'root' user can result in broken permissions and conflicting behaviour with the system package manager. It is recommended to use a virtual environment instead: https://pip.pypa.io/warnings/venv\u001b[0m\u001b[33m\n",
      "\u001b[0m"
     ]
    }
   ],
   "source": [
    "!pip install transformers"
   ]
  },
  {
   "cell_type": "code",
   "execution_count": 2,
   "metadata": {
    "colab": {
     "base_uri": "https://localhost:8080/"
    },
    "execution": {
     "iopub.execute_input": "2023-03-24T06:00:18.416348Z",
     "iopub.status.busy": "2023-03-24T06:00:18.416087Z",
     "iopub.status.idle": "2023-03-24T06:00:24.783901Z",
     "shell.execute_reply": "2023-03-24T06:00:24.783038Z",
     "shell.execute_reply.started": "2023-03-24T06:00:18.416320Z"
    },
    "id": "JCCeyhuDHdOu",
    "outputId": "2245eb05-a612-4e50-d49d-d27ed67538f2"
   },
   "outputs": [
    {
     "name": "stderr",
     "output_type": "stream",
     "text": [
      "[nltk_data] Downloading package punkt to /root/nltk_data...\n",
      "[nltk_data]   Unzipping tokenizers/punkt.zip.\n"
     ]
    },
    {
     "data": {
      "text/plain": [
       "True"
      ]
     },
     "execution_count": 2,
     "metadata": {},
     "output_type": "execute_result"
    }
   ],
   "source": [
    "import os\n",
    "import time\n",
    "import datetime\n",
    "\n",
    "import pandas as pd\n",
    "import seaborn as sns\n",
    "import numpy as np\n",
    "import random\n",
    "\n",
    "import matplotlib.pyplot as plt\n",
    "\n",
    "import torch\n",
    "from torch.utils.data import Dataset, DataLoader, random_split, RandomSampler, SequentialSampler\n",
    "torch.manual_seed(42)\n",
    "\n",
    "from transformers import GPT2LMHeadModel,  GPT2Tokenizer, GPT2Config, GPT2LMHeadModel\n",
    "from transformers import AdamW, get_linear_schedule_with_warmup\n",
    "\n",
    "import nltk\n",
    "nltk.download('punkt')"
   ]
  },
  {
   "cell_type": "code",
   "execution_count": 3,
   "metadata": {
    "colab": {
     "base_uri": "https://localhost:8080/"
    },
    "execution": {
     "iopub.execute_input": "2023-03-24T06:00:24.785694Z",
     "iopub.status.busy": "2023-03-24T06:00:24.785162Z",
     "iopub.status.idle": "2023-03-24T06:00:25.280134Z",
     "shell.execute_reply": "2023-03-24T06:00:25.278961Z",
     "shell.execute_reply.started": "2023-03-24T06:00:24.785652Z"
    },
    "id": "satxtOn9CzgR",
    "outputId": "49b454d2-f435-4510-832e-c1664a74529a"
   },
   "outputs": [
    {
     "name": "stdout",
     "output_type": "stream",
     "text": [
      "Fri Mar 24 06:00:25 2023       \n",
      "+-----------------------------------------------------------------------------+\n",
      "| NVIDIA-SMI 510.73.05    Driver Version: 510.73.05    CUDA Version: 11.6     |\n",
      "|-------------------------------+----------------------+----------------------+\n",
      "| GPU  Name        Persistence-M| Bus-Id        Disp.A | Volatile Uncorr. ECC |\n",
      "| Fan  Temp  Perf  Pwr:Usage/Cap|         Memory-Usage | GPU-Util  Compute M. |\n",
      "|                               |                      |               MIG M. |\n",
      "|===============================+======================+======================|\n",
      "|   0  Quadro P5000        Off  | 00000000:00:05.0 Off |                  Off |\n",
      "| 26%   25C    P8     6W / 180W |      0MiB / 16384MiB |      0%      Default |\n",
      "|                               |                      |                  N/A |\n",
      "+-------------------------------+----------------------+----------------------+\n",
      "                                                                               \n",
      "+-----------------------------------------------------------------------------+\n",
      "| Processes:                                                                  |\n",
      "|  GPU   GI   CI        PID   Type   Process name                  GPU Memory |\n",
      "|        ID   ID                                                   Usage      |\n",
      "|=============================================================================|\n",
      "|  No running processes found                                                 |\n",
      "+-----------------------------------------------------------------------------+\n",
      "WARNING: infoROM is corrupted at gpu 0000:00:05.0\n"
     ]
    }
   ],
   "source": [
    "!nvidia-smi"
   ]
  },
  {
   "cell_type": "markdown",
   "metadata": {
    "id": "ZfdCML6Parvv"
   },
   "source": [
    "# Create Training Set\n",
    "\n",
    "The data used to finetune the language model is a set of around 1000 DJ biographies, with the aim of generating them in the same general format and style.\n",
    "\n",
    "This data isn't public so if you want to use this script, you'll have to source your own training set."
   ]
  },
  {
   "cell_type": "code",
   "execution_count": 4,
   "metadata": {
    "colab": {
     "base_uri": "https://localhost:8080/",
     "height": 125
    },
    "execution": {
     "iopub.execute_input": "2023-03-24T06:00:25.283792Z",
     "iopub.status.busy": "2023-03-24T06:00:25.283387Z",
     "iopub.status.idle": "2023-03-24T06:00:25.288914Z",
     "shell.execute_reply": "2023-03-24T06:00:25.287844Z",
     "shell.execute_reply.started": "2023-03-24T06:00:25.283722Z"
    },
    "id": "_EYFrNxr-TYb",
    "outputId": "019f2993-a8a8-4a27-ab63-380f914bac9f"
   },
   "outputs": [],
   "source": [
    "# mount my Google Drive directory and access the training data located there\n",
    "# gdrive_dir = '/content/gdrive/'\n",
    "# data_dir = os.path.join(gdrive_dir, \"'My Drive'\",\"'Colab Notebooks'\",\"nlp\",\"'text gen demos'\")\n",
    "# filename = 'ra_top_1000_full.csv'\n",
    "\n",
    "# drive.mount(gdrive_dir, force_remount=True)\n"
   ]
  },
  {
   "cell_type": "code",
   "execution_count": 5,
   "metadata": {
    "execution": {
     "iopub.execute_input": "2023-03-24T06:00:25.290448Z",
     "iopub.status.busy": "2023-03-24T06:00:25.290124Z",
     "iopub.status.idle": "2023-03-24T06:00:25.295289Z",
     "shell.execute_reply": "2023-03-24T06:00:25.294019Z",
     "shell.execute_reply.started": "2023-03-24T06:00:25.290423Z"
    },
    "id": "G_DWAMe1FopX"
   },
   "outputs": [],
   "source": [
    "# copy the data to the current Colab working directory\n",
    "# !cp $data_dir/$filename ."
   ]
  },
  {
   "cell_type": "code",
   "execution_count": 6,
   "metadata": {
    "execution": {
     "iopub.execute_input": "2023-03-24T06:00:25.297870Z",
     "iopub.status.busy": "2023-03-24T06:00:25.297499Z",
     "iopub.status.idle": "2023-03-24T06:00:25.307249Z",
     "shell.execute_reply": "2023-03-24T06:00:25.306049Z",
     "shell.execute_reply.started": "2023-03-24T06:00:25.297843Z"
    },
    "id": "wCZo7hBgqRX1"
   },
   "outputs": [],
   "source": [
    "dataset = [\n",
    "    {\n",
    "        \"bio_main\": \"When it funks, it funks hard.\\n\\nBreaking Beats Since 1988.Where do you start with A Guy Called Gerald? A hidden gem, the gateway between Chicago house / Detroit Techno and the UK dance music explosion in the late 80s. He is one of a few special producers who entered dance music in the jacking zone. He is the first UK acid house producer and probably the first producer to have two instrumental dance tracks in the UK charts at the same. He formed 808 State with a drum machine, a 303, 2 Roland SH101s and 2 other humans. His collaborations stem from Frankie Knuckles, Goldie, Finley Quaye and Derrick May through to Herbie Hancock, remixed for David Bowie, Lamb, Stone Roses, Black Uhuru, Can, Tricky, Roman Fluegel and The Orb and toured with New Order, Tricky and Bebel Gilberto.\\n\\nWhen the history of postmodern dance music is written he is ubiquitous: his visions, his stylistic versatility and open mindedness had a huge influence on the development of global dance culture. Very early on, he experimented with acid house and helped pioneer the style that was later called jungle and drum'n'bass. Fiercely independent he's preparing himself for a string of new releases, the launch of his online shop and touring worldwide. \\n\\nThe Manchester scene in the late 80s radiated from the Hacienda. It was a place which grew to be a breeding ground for the likes of Laurent Garnier and Chemical Brothers and in the Summer of Love the Hacienda had a theme tune called Voodoo Ray. It was A Guy Called Gerald's first release in 1988 and became a seminal classic that put British house music firmly on the map. As part of 808 State’s first incarnation he co-produced another Hacienda classic, Pacific State. He soon decided to concentrate on his solo project and toured worldwide (and with a quarter of a ton of equipment!) performing live. \\n\\nIn the early 90s he launched his own label Juice Box and released a series of 12\\\"s that were the blueprint to what would become jungle. In 1992 he compiled these releases into the proto jungle classic \\\"28 Gun Bad Boy\\\" album. In 1995 he followed up with the definitive \\\"Black Secret Technology\\\" to critical acclaim. Black Secret Technology featured Finley's Rainbow with vocals by Finley Quaye and a collaboration with Goldie. Finley's Rainbow featured Finley Quaye who later re-released the tune on his debut album. In 2005 Knowledge Magazine ranked \\\"28 Gun Bad Boy\\\" EP was as the No. 1 jungle single of all time. His sound was an inspiration to many - Goldie, LTJ Bukem and DJ Krust have all stated his influence.\\n\\nBut never wanting to be stereotyped into any particular style of music his sound continued to develop. In 2000 he signed with !K7 Records and released \\\"Essence\\\" with guest vocals from singer/songwriter Wendy Page, Lady Kier and Finley Quaye. In 2005 the down tempo \\\"To All Things What They Need\\\". In 2005 he launched his Sugoi and Protechson labels. His latest album \\\"Proto Acid / The Berlin Sessions\\\", released on Berlin's Laboratory Instinct, is an infectious 71 minute continuous mix recorded live.\\n\\n2008 marks 20 years of A Guy Called Gerald in dance music and to celebrate a definitive collection of A Guy Called Gerald’s back catalogue is planned for release featuring rare and unreleased tracks and remixes. In July a remaster of 1995’s jungle classic “Black Secret Technology” was reissued. And in August “In Ya Head feat. Mia” came out on Berlin’s favourite Perlon Records. \\n\\nHe continues to tour bringing his studio into the clubs worldwide playing anywhere from 2 to now legendary 14 hour LIVE sets – no DJ software, no gimmicks, just raw, pure, undiluted AGCG riddums strictly for the dancefloor.\"\n",
    "    }, \n",
    "    {\n",
    "        \"bio_main\": \"Purposively ricocheting between the techno world and experimental electronic music, Linell forges a distinct passage that gathers the aesthetically uncompromising motifs and missions from across this spectrum.\\\"The cohesive array of depth charged devices that Anthony Linell has produced is formidable. From his opening statements as Abdulla Rashim on his early label of the same name, right through to his recent work that puts his aliases aside, there is a robust and rigorous intent that compounds the elemental strategies of techno's models to apprehend his singular vision.\\n\\nPresiding over Stockholm's Northern Electronics label with Varg (Jonas Rönnberg), Linell dispenses with mechanisms of attention on all fronts. Marked by an indefatigable self-reliance, the label presents exactly what it means to display, and no more. Carving an idiosyncratic platform for his music is as great of a warning as there could be that Linell's leveraging little toward the benefit of the audience. By his measure, the familiarity and comfort of contemporary techno is stripped back to its rushing heart, the senses left tailgating the strobe in a fit of intuition over decision. The greater this is exposed the colder it gets, and its in these extremes that Linell's caustic rhythmic precision hits. Live, it comes off as a galvanizing strike from the outside; analysing the room as a DJ, it's a case of being pursued through the dark. \\n\\nJust as the brevity of Linell's output in the eyes of techno is exalted as it is brought into focus, the background to this blurs as you start to decipher his other projects. Lundin Oil skirts the fringes of noise and experimental music, and in collaboration with Varg as Ulwhedar, this is perhaps even more pronounced.\\n\\nPurposively ricocheting between the techno world and experimental electronic music, Linell forges a distinct passage that gathers the aesthetically uncompromising motifs and missions from across this spectrum. It's this combination and resolve that's brought Linell to the world's attention, however little that attention has been solicited.\"\n",
    "    }, \n",
    "    {\n",
    "        \"bio_main\": \"Acid Arab is a duet from Paris whose goal is to mix all kind of Eastern music (North Africa, Lebanon, Egypt, Turkey or… Mumbai) with electronic sounds, from pioneering acid house to today’s powerful techno.Guido Minisky and Hervé Carvalho (+ Sex Schön in the studio), both djs for many years and residents of infamous Parisian club Chez Moune, have fallen in love with this music after a trip to Tunisia with Dj Gilb’R. They’ve managed to convince a lot of producers to come along with them on this fantastic voyage and create a track for their ‘Acid Arab Collections‘, which are naturally released by Gilb’R’s label, Versatile Records.\\n\\n\\nOn this first EP you will hear the French dance master I:Cube giving his own definition of an Arabic acid track. Inspired by some old guys talking in an Algerian café, he called it “Le bon vieux temps” (‘Good old days’). The Syrian star Omar Souleyman has accepted to let Crackboy (from Tigersushi and I’m A Cliché) remix one of his famous hits ‘Shift Al Mani‘. It’s acid at its best, empowered by Souleyman’s vocals. Acid Arab organized a live session at Versatile studio with keyboardist / guitarist Turzi (Record Makers), keyboardist / bassist Judah Warsky (Pan European Recordings) and a very special guest : Adnan Mohamed, aged 60, who’s played traditional oud guitar all his life in Kurdistan and France. Dj Gilb’R, the brain behind the muscles, has mixed these sounds to create an epic cosmic symphony that the team called ‘Cosmique Arabe‘ by Boyz In The Oud. Lastly, Acid Arab themselves deliver their ‘Theme‘, a journey through beats and a Persian melody that has already got support from Gilles Peterson, Lovefingers, TLR, Skudge, Tim Sweeney and Radio Nova (Paris).\\n“We are fascinated by eastern music and its codes, such as complex rhythmic structures (binary and ternary superimposing upon each other), which drive dancers to trance just like acid house does. We’d like to take these codes and use analog techno devices (beatboxes, bassline machines) to create something new : an oriental acid music which combines the coldness of techno and the emotional and dramatic power of the East. Our knowledge of the dancefloor is now digested and we have spent night after night digging records and files to know more about arabic music. We don’t want to be standardbearers of mixing whatever, we just want to be of our days. talking about mixing means there’s a split, a binary vision of an occidental vs oriental world – this is has-been. We don’t paste oriental sounds on occidental beats, we want to embody both cultures without pretending to reinvent oriental music or fooling ourselves by believing we’re inventing eastern dance music. We just want to be part of it, and contribute to this brilliant and enormous masterpiece that this music is, and has been for thousands of years.” Acid Arab aka Guido Minisky and Hervé Carvalho.\"\n",
    "    }\n",
    "\n",
    "]"
   ]
  },
  {
   "cell_type": "code",
   "execution_count": 7,
   "metadata": {
    "colab": {
     "base_uri": "https://localhost:8080/"
    },
    "execution": {
     "iopub.execute_input": "2023-03-24T06:00:25.309016Z",
     "iopub.status.busy": "2023-03-24T06:00:25.308731Z",
     "iopub.status.idle": "2023-03-24T06:00:25.402473Z",
     "shell.execute_reply": "2023-03-24T06:00:25.401164Z",
     "shell.execute_reply.started": "2023-03-24T06:00:25.308991Z"
    },
    "id": "ya3zsH0r-3JK",
    "outputId": "15e14e88-0e68-4565-e741-0047edd2600e"
   },
   "outputs": [
    {
     "name": "stdout",
     "output_type": "stream",
     "text": [
      "       Unnamed: 0                                          line_text  \\\n",
      "0               0  = Natural Language Processing in Action, Secon...   \n",
      "1               1                                        :chapter: 1   \n",
      "2               2                                           :part: 1   \n",
      "3               3                                         :sectnums:   \n",
      "4               4                                      :imagesdir: .   \n",
      "...           ...                                                ...   \n",
      "14373       14373  * Efficiently modeling natural language charac...   \n",
      "14374       14374  * Weights in an RNN are adjusted in aggregate ...   \n",
      "14375       14375  * You can use different methods to examine the...   \n",
      "14376       14376  * You can model the natural language sequence ...   \n",
      "14377       14377                                                NaN   \n",
      "\n",
      "       line_number                                           filename  \\\n",
      "0                0  Chapter-01_Machines-that-can-read-and-write-NL...   \n",
      "1                1  Chapter-01_Machines-that-can-read-and-write-NL...   \n",
      "2                2  Chapter-01_Machines-that-can-read-and-write-NL...   \n",
      "3                3  Chapter-01_Machines-that-can-read-and-write-NL...   \n",
      "4                4  Chapter-01_Machines-that-can-read-and-write-NL...   \n",
      "...            ...                                                ...   \n",
      "14373         1769  Chapter-08_Reduce,-Reuse,-Recycle-Recurrent-Ne...   \n",
      "14374         1770  Chapter-08_Reduce,-Reuse,-Recycle-Recurrent-Ne...   \n",
      "14375         1771  Chapter-08_Reduce,-Reuse,-Recycle-Recurrent-Ne...   \n",
      "14376         1772  Chapter-08_Reduce,-Reuse,-Recycle-Recurrent-Ne...   \n",
      "14377         1773  Chapter-08_Reduce,-Reuse,-Recycle-Recurrent-Ne...   \n",
      "\n",
      "       is_text  is_empty  is_code_or_output  is_title  is_metadata  \\\n",
      "0        False     False              False      True        False   \n",
      "1        False     False              False     False         True   \n",
      "2        False     False              False     False         True   \n",
      "3        False     False              False     False         True   \n",
      "4        False     False              False     False         True   \n",
      "...        ...       ...                ...       ...          ...   \n",
      "14373     True     False              False     False        False   \n",
      "14374     True     False              False     False        False   \n",
      "14375     True     False              False     False        False   \n",
      "14376     True     False              False     False        False   \n",
      "14377    False      True              False     False        False   \n",
      "\n",
      "       is_code_comment  is_markup  is_figure_name  is_separator  is_comment  \\\n",
      "0                False      False           False         False       False   \n",
      "1                False      False           False         False       False   \n",
      "2                False      False           False         False       False   \n",
      "3                False      False           False         False       False   \n",
      "4                False      False           False         False       False   \n",
      "...                ...        ...             ...           ...         ...   \n",
      "14373            False      False           False         False       False   \n",
      "14374            False      False           False         False       False   \n",
      "14375            False      False           False         False       False   \n",
      "14376            False      False           False         False       False   \n",
      "14377            False      False           False         False       False   \n",
      "\n",
      "       num_types  is_type_defined  \n",
      "0              1             True  \n",
      "1              1             True  \n",
      "2              1             True  \n",
      "3              1             True  \n",
      "4              1             True  \n",
      "...          ...              ...  \n",
      "14373          1             True  \n",
      "14374          1             True  \n",
      "14375          1             True  \n",
      "14376          1             True  \n",
      "14377          1             True  \n",
      "\n",
      "[14378 rows x 16 columns]\n"
     ]
    }
   ],
   "source": [
    "# load into a data frame\n",
    "df = pd.read_csv('data/nlpia_lines.csv')\n",
    "print(df)"
   ]
  },
  {
   "cell_type": "code",
   "execution_count": 8,
   "metadata": {
    "colab": {
     "base_uri": "https://localhost:8080/"
    },
    "execution": {
     "iopub.execute_input": "2023-03-24T06:00:25.404125Z",
     "iopub.status.busy": "2023-03-24T06:00:25.403823Z",
     "iopub.status.idle": "2023-03-24T06:00:25.427086Z",
     "shell.execute_reply": "2023-03-24T06:00:25.426099Z",
     "shell.execute_reply.started": "2023-03-24T06:00:25.404098Z"
    },
    "id": "_U3m6wr3Ahzt",
    "outputId": "f29c58f2-ee8a-4914-8340-1e9bf805cdca"
   },
   "outputs": [
    {
     "data": {
      "text/plain": [
       "14                                     This chapter covers\n",
       "16                           * The power of human language\n",
       "17       * How natural language processing (NLP) is cha...\n",
       "18       * The kinds of NLP tasks that machines can now...\n",
       "19       * Why unleashing the NLP genie is profitable ....\n",
       "                               ...                        \n",
       "14372    * Because RNNs are particularly deep neural ne...\n",
       "14373    * Efficiently modeling natural language charac...\n",
       "14374    * Weights in an RNN are adjusted in aggregate ...\n",
       "14375    * You can use different methods to examine the...\n",
       "14376    * You can model the natural language sequence ...\n",
       "Name: line_text, Length: 6258, dtype: object"
      ]
     },
     "execution_count": 8,
     "metadata": {},
     "output_type": "execute_result"
    }
   ],
   "source": [
    "df.dropna(inplace=True) #remove NA values\n",
    "df = df[df['is_text']]\n",
    "bios = df.line_text.copy() \n",
    "bios"
   ]
  },
  {
   "cell_type": "markdown",
   "metadata": {
    "id": "hQ1oK0kXaV5p"
   },
   "source": [
    "We need to get an idea of how long our training documents are.\n",
    "\n",
    "I'm not going to use the same tokenizer as the GPT2 one, which is a [byte pair encoding tokenizer](https://blog.floydhub.com/tokenization-nlp/). Instead, I'm using a simple one just to get a rough understanding."
   ]
  },
  {
   "cell_type": "code",
   "execution_count": 9,
   "metadata": {
    "colab": {
     "base_uri": "https://localhost:8080/",
     "height": 477
    },
    "execution": {
     "iopub.execute_input": "2023-03-24T06:00:25.428610Z",
     "iopub.status.busy": "2023-03-24T06:00:25.428325Z",
     "iopub.status.idle": "2023-03-24T06:00:27.149887Z",
     "shell.execute_reply": "2023-03-24T06:00:27.148720Z",
     "shell.execute_reply.started": "2023-03-24T06:00:25.428585Z"
    },
    "id": "cKsH2sU0OCQA",
    "outputId": "28a53c98-619d-4d11-cbde-aa09bd1c3aa1"
   },
   "outputs": [
    {
     "name": "stderr",
     "output_type": "stream",
     "text": [
      "/tmp/ipykernel_32/3284538386.py:12: UserWarning: \n",
      "\n",
      "`distplot` is a deprecated function and will be removed in seaborn v0.14.0.\n",
      "\n",
      "Please adapt your code to use either `displot` (a figure-level function with\n",
      "similar flexibility) or `histplot` (an axes-level function for histograms).\n",
      "\n",
      "For a guide to updating your code to use the new functions, please see\n",
      "https://gist.github.com/mwaskom/de44147ed2974457ad6372750bbe5751\n",
      "\n",
      "  sns.distplot(doc_lengths)\n"
     ]
    },
    {
     "data": {
      "text/plain": [
       "<AxesSubplot: ylabel='Density'>"
      ]
     },
     "execution_count": 9,
     "metadata": {},
     "output_type": "execute_result"
    },
    {
     "data": {
      "image/png": "[encoded data removed]",
      "text/plain": [
       "<Figure size 640x480 with 1 Axes>"
      ]
     },
     "metadata": {},
     "output_type": "display_data"
    }
   ],
   "source": [
    "doc_lengths = []\n",
    "\n",
    "for bio in bios:\n",
    "\n",
    "    # get rough token count distribution\n",
    "    tokens = nltk.word_tokenize(bio)\n",
    "\n",
    "    doc_lengths.append(len(tokens))\n",
    "\n",
    "doc_lengths = np.array(doc_lengths)\n",
    "\n",
    "sns.distplot(doc_lengths)"
   ]
  },
  {
   "cell_type": "code",
   "execution_count": 10,
   "metadata": {
    "colab": {
     "base_uri": "https://localhost:8080/"
    },
    "execution": {
     "iopub.execute_input": "2023-03-24T06:00:27.156994Z",
     "iopub.status.busy": "2023-03-24T06:00:27.155851Z",
     "iopub.status.idle": "2023-03-24T06:00:27.165074Z",
     "shell.execute_reply": "2023-03-24T06:00:27.163689Z",
     "shell.execute_reply.started": "2023-03-24T06:00:27.156936Z"
    },
    "id": "u6P6bTItJEIj",
    "outputId": "7e6957b8-cf20-4e03-c143-cd44e726ea77"
   },
   "outputs": [
    {
     "data": {
      "text/plain": [
       "0.0"
      ]
     },
     "execution_count": 10,
     "metadata": {},
     "output_type": "execute_result"
    }
   ],
   "source": [
    "# the max token length   \n",
    "len(doc_lengths[doc_lengths > 768])/len(doc_lengths)"
   ]
  },
  {
   "cell_type": "code",
   "execution_count": 11,
   "metadata": {
    "colab": {
     "base_uri": "https://localhost:8080/"
    },
    "execution": {
     "iopub.execute_input": "2023-03-24T06:00:27.167566Z",
     "iopub.status.busy": "2023-03-24T06:00:27.166579Z",
     "iopub.status.idle": "2023-03-24T06:00:27.174322Z",
     "shell.execute_reply": "2023-03-24T06:00:27.173335Z",
     "shell.execute_reply.started": "2023-03-24T06:00:27.167527Z"
    },
    "id": "63t_69HjlwAj",
    "outputId": "493be511-bed9-43b3-a1dd-297730944fca"
   },
   "outputs": [
    {
     "data": {
      "text/plain": [
       "22.617929050814958"
      ]
     },
     "execution_count": 11,
     "metadata": {},
     "output_type": "execute_result"
    }
   ],
   "source": [
    "np.average(doc_lengths)"
   ]
  },
  {
   "cell_type": "markdown",
   "metadata": {
    "id": "Tuq5bqdr4_a6"
   },
   "source": [
    "Even though these token counts won't match up to the BPE tokenizer's, I'm confident that most bios will be fit under the 768 embedding size limit for the small GPT2 model."
   ]
  },
  {
   "cell_type": "markdown",
   "metadata": {
    "id": "cMml12FJGjPW"
   },
   "source": [
    "# GPT2 Tokenizer"
   ]
  },
  {
   "cell_type": "markdown",
   "metadata": {
    "id": "ANJhbBwdxN-b"
   },
   "source": [
    "Although the defaults take care of this,I thought I'd show that you can specify some of the special tokens. "
   ]
  },
  {
   "cell_type": "code",
   "execution_count": 12,
   "metadata": {
    "colab": {
     "base_uri": "https://localhost:8080/",
     "height": 131,
     "referenced_widgets": [
      "14dc09208bb045b893cc04bcc66321d4",
      "77002b2b37f8482db072a675585ad9c9",
      "663be58549504ba5a87698681a408ceb",
      "a747e0d9ff8444f59bebea50619aac78",
      "8630cbaa217846628d8c6963ea5694d4",
      "1f7e3118148d45c3ad1697d7321f8ec0",
      "3708ed524dae4c50838c92fb3bab0e90",
      "2f8d61c5e6e946d1ad6a52b618c37ada",
      "4e00483f0c804ef0827ae2c24992f8d6",
      "059088e3b8b8416a8faba5645d1af445",
      "6f93d3dfda19445f9408605798f696fb",
      "893f62442b1748a9be060ea1aa456a6a",
      "f30b0553a7f54ec9b2bec4d6d18d8997",
      "9139c6f36497450bb0e710d48183831a",
      "5a57a9ffe1284da99181b098f20b858f",
      "b073d51805364e79aa5c367c1e8d173b",
      "f6395682f1764db0961a2cfd647b2b9b",
      "30eae0badcc7486988763b8f0bc559e3",
      "850bc1258ff949e9b3a0984ea13d58f2",
      "2066a23a01944d569d6112ce6c794ada",
      "4e6d8bee10a14b118862ac1525a29104",
      "c8f7ccdd681346cfb80348e33a16f6b2",
      "2cfcc73f1ca34e62a97e9f7453cc6c75",
      "94e730cac8754920ba23e9fc450e3832",
      "e06a85abca7b452ab6ff40c7d0caa63c",
      "21c7c20a77044de3805d05225317170e",
      "ee9345bf60fd4eebac1e9845ef8cf8bc",
      "6a4fb299c6e1473a9f7565cf291d5f64",
      "4b3f138f93a3485e95cff1209067347c",
      "2b6b656f6f7f4d259e72a14272637cbe",
      "12b5d63803594e9486ea2d54d17c700e",
      "e105959a550448d1b15a8ce5afc6e286",
      "9ab1a1b4d87049d48a06fd5153238b13"
     ]
    },
    "execution": {
     "iopub.execute_input": "2023-03-24T06:00:27.176598Z",
     "iopub.status.busy": "2023-03-24T06:00:27.176290Z",
     "iopub.status.idle": "2023-03-24T06:00:28.240032Z",
     "shell.execute_reply": "2023-03-24T06:00:28.239051Z",
     "shell.execute_reply.started": "2023-03-24T06:00:27.176573Z"
    },
    "id": "Z474sSC6oe7A",
    "outputId": "2d6c1f9c-7cee-46e8-c9ec-c978ad21b626"
   },
   "outputs": [
    {
     "data": {
      "application/vnd.jupyter.widget-view+json": {
       "model_id": "d7cd859e54b04f1f8aea9d35dabc4211",
       "version_major": 2,
       "version_minor": 0
      },
      "text/plain": [
       "Downloading vocab.json:   0%|          | 0.00/0.99M [00:00<?, ?B/s]"
      ]
     },
     "metadata": {},
     "output_type": "display_data"
    },
    {
     "data": {
      "application/vnd.jupyter.widget-view+json": {
       "model_id": "20d76cc8d59c48ae908eb222e0052750",
       "version_major": 2,
       "version_minor": 0
      },
      "text/plain": [
       "Downloading merges.txt:   0%|          | 0.00/446k [00:00<?, ?B/s]"
      ]
     },
     "metadata": {},
     "output_type": "display_data"
    },
    {
     "data": {
      "application/vnd.jupyter.widget-view+json": {
       "model_id": "3e84d9f8dcbd4516b18d882eac60085c",
       "version_major": 2,
       "version_minor": 0
      },
      "text/plain": [
       "Downloading config.json:   0%|          | 0.00/665 [00:00<?, ?B/s]"
      ]
     },
     "metadata": {},
     "output_type": "display_data"
    },
    {
     "name": "stderr",
     "output_type": "stream",
     "text": [
      "Special tokens have been added in the vocabulary, make sure the associated word embeddings are fine-tuned or trained.\n"
     ]
    }
   ],
   "source": [
    "# Load the GPT tokenizer.\n",
    "tokenizer = GPT2Tokenizer.from_pretrained('gpt2', bos_token='<|startoftext|>', eos_token='<|endoftext|>', pad_token='<|pad|>') #gpt2-medium\n"
   ]
  },
  {
   "cell_type": "code",
   "execution_count": 13,
   "metadata": {
    "colab": {
     "base_uri": "https://localhost:8080/"
    },
    "execution": {
     "iopub.execute_input": "2023-03-24T06:00:28.241617Z",
     "iopub.status.busy": "2023-03-24T06:00:28.241349Z",
     "iopub.status.idle": "2023-03-24T06:00:28.248132Z",
     "shell.execute_reply": "2023-03-24T06:00:28.247058Z",
     "shell.execute_reply.started": "2023-03-24T06:00:28.241590Z"
    },
    "id": "sh0XKuDvnryn",
    "outputId": "dce8be50-921d-4469-97c2-d545b07d01ff"
   },
   "outputs": [
    {
     "name": "stdout",
     "output_type": "stream",
     "text": [
      "The max model length is 1024 for this model, although the actual embedding size for GPT small is 768\n",
      "The beginning of sequence token <|startoftext|> token has the id 50257\n",
      "The end of sequence token <|endoftext|> has the id 50256\n",
      "The padding token <|pad|> has the id 50258\n"
     ]
    }
   ],
   "source": [
    "print(\"The max model length is {} for this model, although the actual embedding size for GPT small is 768\".format(tokenizer.model_max_length))\n",
    "print(\"The beginning of sequence token {} token has the id {}\".format(tokenizer.convert_ids_to_tokens(tokenizer.bos_token_id), tokenizer.bos_token_id))\n",
    "print(\"The end of sequence token {} has the id {}\".format(tokenizer.convert_ids_to_tokens(tokenizer.eos_token_id), tokenizer.eos_token_id))\n",
    "print(\"The padding token {} has the id {}\".format(tokenizer.convert_ids_to_tokens(tokenizer.pad_token_id), tokenizer.pad_token_id))"
   ]
  },
  {
   "cell_type": "markdown",
   "metadata": {
    "id": "ex5O1eV-Pfct"
   },
   "source": [
    "# PyTorch Datasets & Dataloaders\n"
   ]
  },
  {
   "cell_type": "markdown",
   "metadata": {
    "id": "3lgZoOYkxZfx"
   },
   "source": [
    "GPT2 is a large model. Increasing the batch size above 2 has lead to out of memory problems. This can be mitigated by accumulating the gradients but that is out of scope here."
   ]
  },
  {
   "cell_type": "code",
   "execution_count": 14,
   "metadata": {
    "execution": {
     "iopub.execute_input": "2023-03-24T06:00:28.249486Z",
     "iopub.status.busy": "2023-03-24T06:00:28.249234Z",
     "iopub.status.idle": "2023-03-24T06:00:28.254321Z",
     "shell.execute_reply": "2023-03-24T06:00:28.253100Z",
     "shell.execute_reply.started": "2023-03-24T06:00:28.249462Z"
    },
    "id": "scqrzmqhV__z"
   },
   "outputs": [],
   "source": [
    "batch_size = 5"
   ]
  },
  {
   "cell_type": "markdown",
   "metadata": {
    "id": "lqGMee7Isfpx"
   },
   "source": [
    "I'm using the standard PyTorch approach of loading data in using a [dataset class](https://pytorch.org/tutorials/beginner/data_loading_tutorial.html).\n",
    "\n",
    "I'm passing in the tokenizer as an argument but normally I would  instantiate it within the class."
   ]
  },
  {
   "cell_type": "code",
   "execution_count": 15,
   "metadata": {
    "execution": {
     "iopub.execute_input": "2023-03-24T06:00:28.255852Z",
     "iopub.status.busy": "2023-03-24T06:00:28.255574Z",
     "iopub.status.idle": "2023-03-24T06:00:28.263729Z",
     "shell.execute_reply": "2023-03-24T06:00:28.262349Z",
     "shell.execute_reply.started": "2023-03-24T06:00:28.255827Z"
    },
    "id": "U_XJVIetKN-h"
   },
   "outputs": [],
   "source": [
    "class GPT2Dataset(Dataset):\n",
    "\n",
    "  def __init__(self, txt_list, tokenizer, gpt2_type=\"gpt2\", max_length=768):\n",
    "\n",
    "    self.tokenizer = tokenizer\n",
    "    self.input_ids = []\n",
    "    self.attn_masks = []\n",
    "\n",
    "    for txt in txt_list:\n",
    "\n",
    "      encodings_dict = tokenizer('<|startoftext|>'+ txt + '<|endoftext|>', truncation=True, max_length=max_length, padding=\"max_length\")\n",
    "\n",
    "      self.input_ids.append(torch.tensor(encodings_dict['input_ids']))\n",
    "      self.attn_masks.append(torch.tensor(encodings_dict['attention_mask']))\n",
    "    \n",
    "  def __len__(self):\n",
    "    return len(self.input_ids)\n",
    "\n",
    "  def __getitem__(self, idx):\n",
    "    return self.input_ids[idx], self.attn_masks[idx] "
   ]
  },
  {
   "cell_type": "markdown",
   "metadata": {
    "id": "89Z7aYUgpWrd"
   },
   "source": [
    "To understand how I've used the tokenizer, it's worth reading [the docs](https://huggingface.co/transformers/main_classes/tokenizer.html). I've wrapped each bio in the bos and eos tokens.\n",
    "\n",
    "Every tensor passed to the model should be the same length.\n",
    "\n",
    "If the bio is shorter than 768 tokens, it will be padded to a length of 768 using the padding token. In addition, an attention mask will be returned that needs to be passed to the model to tell it to ignore the padding tokens. \n",
    "\n",
    "If the bio is longer than 768 tokens, it will be truncated without the eos_token. This isn't a problem."
   ]
  },
  {
   "cell_type": "code",
   "execution_count": 16,
   "metadata": {
    "colab": {
     "base_uri": "https://localhost:8080/"
    },
    "execution": {
     "iopub.execute_input": "2023-03-24T06:00:28.265246Z",
     "iopub.status.busy": "2023-03-24T06:00:28.264980Z",
     "iopub.status.idle": "2023-03-24T06:00:31.768684Z",
     "shell.execute_reply": "2023-03-24T06:00:31.767481Z",
     "shell.execute_reply.started": "2023-03-24T06:00:28.265221Z"
    },
    "id": "Xza_O1_rD7yh",
    "outputId": "c51020c1-1efc-4b74-b46d-89058212e3f5"
   },
   "outputs": [
    {
     "name": "stdout",
     "output_type": "stream",
     "text": [
      "5,632 training samples\n",
      "  626 validation samples\n"
     ]
    }
   ],
   "source": [
    "dataset = GPT2Dataset(bios, tokenizer, max_length=768)\n",
    "\n",
    "# Split into training and validation sets\n",
    "train_size = int(0.9 * len(dataset))\n",
    "val_size = len(dataset) - train_size\n",
    "\n",
    "train_dataset, val_dataset = random_split(dataset, [train_size, val_size])\n",
    "\n",
    "print('{:>5,} training samples'.format(train_size))\n",
    "print('{:>5,} validation samples'.format(val_size))"
   ]
  },
  {
   "cell_type": "code",
   "execution_count": 17,
   "metadata": {
    "execution": {
     "iopub.execute_input": "2023-03-24T06:00:31.770235Z",
     "iopub.status.busy": "2023-03-24T06:00:31.769953Z",
     "iopub.status.idle": "2023-03-24T06:00:31.777079Z",
     "shell.execute_reply": "2023-03-24T06:00:31.775540Z",
     "shell.execute_reply.started": "2023-03-24T06:00:31.770208Z"
    },
    "id": "x0WeP5PREUuy"
   },
   "outputs": [],
   "source": [
    "# Create the DataLoaders for our training and validation datasets.\n",
    "# We'll take training samples in random order. \n",
    "train_dataloader = DataLoader(\n",
    "            train_dataset,  # The training samples.\n",
    "            sampler = RandomSampler(train_dataset), # Select batches randomly\n",
    "            batch_size = batch_size # Trains with this batch size.\n",
    "        )\n",
    "\n",
    "# For validation the order doesn't matter, so we'll just read them sequentially.\n",
    "validation_dataloader = DataLoader(\n",
    "            val_dataset, # The validation samples.\n",
    "            sampler = SequentialSampler(val_dataset), # Pull out batches sequentially.\n",
    "            batch_size = batch_size # Evaluate with this batch size.\n",
    "        )"
   ]
  },
  {
   "cell_type": "markdown",
   "metadata": {
    "id": "D6TKgyUzPIQc"
   },
   "source": [
    "# Finetune GPT2 Language Model"
   ]
  },
  {
   "cell_type": "code",
   "execution_count": 18,
   "metadata": {
    "colab": {
     "base_uri": "https://localhost:8080/",
     "height": 81,
     "referenced_widgets": [
      "763dc32ff2c64bb9b1a4e28a225c9508",
      "550698fb5d3e430ca5b53d8d724736c4",
      "80f62953fc3941908cfc555c1ce83ad1",
      "5cff5c73ba0344db83f23f321d95deba",
      "1dc803a8decd4d69b08645d5da4ec1c6",
      "098d4faa7d67453992f62c5462a35162",
      "cd69c71267a44120996ec3d9c91979d5",
      "75fd48170fb54f1e963be6a07789f489",
      "2997140a062c43fda21a8de0be8cf8b4",
      "fbd4624c4506488ca1059382780ea587",
      "c3ba93bd548a486fa3fe2a53ffd3c819",
      "681b4e54c27641b894218f9cf6456437",
      "244c7315e54d44d79fc865b9cd1f703a",
      "56a6e8a03e064c9ead29896b1855a978",
      "222f385784c24a0c905374fc36bf3a83",
      "3913af87745e43fa905d674c23d87aa9",
      "b2b9e3b816384dad87edc6265da9e109",
      "c94ff12b42b84fc8a6ba1abc13736f1a",
      "cb7ebac2fe97427c92dd7c9f44d2c419",
      "50c5fe276bd645efacffd594a9eaf8f7",
      "642202dc36f249d1b4c19e60f5bf24e5",
      "6efe23a4ce18453d8ecddb129507fceb"
     ]
    },
    "execution": {
     "iopub.execute_input": "2023-03-24T06:00:31.778654Z",
     "iopub.status.busy": "2023-03-24T06:00:31.778365Z",
     "iopub.status.idle": "2023-03-24T06:00:47.060397Z",
     "shell.execute_reply": "2023-03-24T06:00:47.059272Z",
     "shell.execute_reply.started": "2023-03-24T06:00:31.778628Z"
    },
    "id": "gFsCTp_mporB",
    "outputId": "32efd7ad-7d1f-4895-8421-818a8824251b"
   },
   "outputs": [
    {
     "data": {
      "application/vnd.jupyter.widget-view+json": {
       "model_id": "421f2e322da942fb8200a6260dfa4b9b",
       "version_major": 2,
       "version_minor": 0
      },
      "text/plain": [
       "Downloading pytorch_model.bin:   0%|          | 0.00/523M [00:00<?, ?B/s]"
      ]
     },
     "metadata": {},
     "output_type": "display_data"
    }
   ],
   "source": [
    "# I'm not really doing anything with the config buheret\n",
    "configuration = GPT2Config.from_pretrained('gpt2', output_hidden_states=False)\n",
    "\n",
    "# instantiate the model\n",
    "model = GPT2LMHeadModel.from_pretrained(\"gpt2\", config=configuration)\n",
    "\n",
    "# this step is necessary because I've added some tokens (bos_token, etc) to the embeddings\n",
    "# otherwise the tokenizer and model tensors won't match up\n",
    "model.resize_token_embeddings(len(tokenizer))\n",
    "\n",
    "# Tell pytorch to run this model on the GPU.\n",
    "device = torch.device(\"cuda\")\n",
    "model.cuda()\n",
    "\n",
    "# Set the seed value all over the place to make this reproducible.\n",
    "seed_val = 42\n",
    "\n",
    "random.seed(seed_val)\n",
    "np.random.seed(seed_val)\n",
    "torch.manual_seed(seed_val)\n",
    "torch.cuda.manual_seed_all(seed_val)"
   ]
  },
  {
   "cell_type": "code",
   "execution_count": 19,
   "metadata": {
    "execution": {
     "iopub.execute_input": "2023-03-24T06:00:47.062274Z",
     "iopub.status.busy": "2023-03-24T06:00:47.061887Z",
     "iopub.status.idle": "2023-03-24T06:00:47.068128Z",
     "shell.execute_reply": "2023-03-24T06:00:47.066919Z",
     "shell.execute_reply.started": "2023-03-24T06:00:47.062236Z"
    },
    "id": "pBEVY2PYSTXJ"
   },
   "outputs": [],
   "source": [
    "# some parameters I cooked up that work reasonably well\n",
    "\n",
    "epochs = 5\n",
    "learning_rate = 5e-4\n",
    "warmup_steps = 1e2\n",
    "epsilon = 1e-8\n",
    "\n",
    "# this produces sample output every 100 steps\n",
    "sample_every = 100"
   ]
  },
  {
   "cell_type": "code",
   "execution_count": 20,
   "metadata": {
    "colab": {
     "base_uri": "https://localhost:8080/"
    },
    "execution": {
     "iopub.execute_input": "2023-03-24T06:00:47.070113Z",
     "iopub.status.busy": "2023-03-24T06:00:47.069814Z",
     "iopub.status.idle": "2023-03-24T06:00:47.078970Z",
     "shell.execute_reply": "2023-03-24T06:00:47.078181Z",
     "shell.execute_reply.started": "2023-03-24T06:00:47.070086Z"
    },
    "id": "GLs72DuMODJO",
    "outputId": "89a57ec2-c7b3-4c2c-99fc-695d1b2f4d24"
   },
   "outputs": [
    {
     "name": "stderr",
     "output_type": "stream",
     "text": [
      "/usr/local/lib/python3.9/dist-packages/transformers/optimization.py:306: FutureWarning: This implementation of AdamW is deprecated and will be removed in a future version. Use the PyTorch implementation torch.optim.AdamW instead, or set `no_deprecation_warning=True` to disable this warning\n",
      "  warnings.warn(\n"
     ]
    }
   ],
   "source": [
    "# Note: AdamW is a class from the huggingface library (as opposed to pytorch) \n",
    "optimizer = AdamW(model.parameters(),\n",
    "                  lr = learning_rate,\n",
    "                  eps = epsilon\n",
    "                )"
   ]
  },
  {
   "cell_type": "code",
   "execution_count": 21,
   "metadata": {
    "execution": {
     "iopub.execute_input": "2023-03-24T06:00:47.080206Z",
     "iopub.status.busy": "2023-03-24T06:00:47.079963Z",
     "iopub.status.idle": "2023-03-24T06:00:47.084934Z",
     "shell.execute_reply": "2023-03-24T06:00:47.083946Z",
     "shell.execute_reply.started": "2023-03-24T06:00:47.080183Z"
    },
    "id": "-p0upAhhRiIx"
   },
   "outputs": [],
   "source": [
    "# Total number of training steps is [number of batches] x [number of epochs]. \n",
    "# (Note that this is not the same as the number of training samples).\n",
    "total_steps = len(train_dataloader) * epochs\n",
    "\n",
    "# Create the learning rate scheduler.\n",
    "# This changes the learning rate as the training loop progresses\n",
    "scheduler = get_linear_schedule_with_warmup(optimizer, \n",
    "                                            num_warmup_steps = warmup_steps, \n",
    "                                            num_training_steps = total_steps)"
   ]
  },
  {
   "cell_type": "code",
   "execution_count": 22,
   "metadata": {
    "execution": {
     "iopub.execute_input": "2023-03-24T06:00:47.086666Z",
     "iopub.status.busy": "2023-03-24T06:00:47.086417Z",
     "iopub.status.idle": "2023-03-24T06:00:47.090562Z",
     "shell.execute_reply": "2023-03-24T06:00:47.089708Z",
     "shell.execute_reply.started": "2023-03-24T06:00:47.086641Z"
    },
    "id": "gpt6tR83keZD"
   },
   "outputs": [],
   "source": [
    "def format_time(elapsed):\n",
    "    return str(datetime.timedelta(seconds=int(round((elapsed)))))"
   ]
  },
  {
   "cell_type": "code",
   "execution_count": 23,
   "metadata": {
    "colab": {
     "base_uri": "https://localhost:8080/"
    },
    "execution": {
     "iopub.execute_input": "2023-03-24T06:00:47.091983Z",
     "iopub.status.busy": "2023-03-24T06:00:47.091718Z",
     "iopub.status.idle": "2023-03-24T07:40:31.449092Z",
     "shell.execute_reply": "2023-03-24T07:40:31.447582Z",
     "shell.execute_reply.started": "2023-03-24T06:00:47.091959Z"
    },
    "id": "vCPohrZ-CTWu",
    "outputId": "24645d56-a120-4b17-ccb7-587abb2ae8ac"
   },
   "outputs": [
    {
     "name": "stdout",
     "output_type": "stream",
     "text": [
      "\n",
      "======== Epoch 1 / 5 ========\n",
      "Training...\n"
     ]
    },
    {
     "name": "stderr",
     "output_type": "stream",
     "text": [
      "The attention mask and the pad token id were not set. As a consequence, you may observe unexpected behavior. Please pass your input's `attention_mask` to obtain reliable results.\n",
      "Setting `pad_token_id` to `eos_token_id`:50256 for open-end generation.\n"
     ]
    },
    {
     "name": "stdout",
     "output_type": "stream",
     "text": [
      "  Batch   100  of  1,127. Loss: 0.1470995843410492.   Elapsed: 0:01:40.\n",
      "0:  bipartisan you, that you're a lot more successful than we were in the previous year.\n",
      ", that you've the most people who have the most people, a lot of people are a lot less complicated than we are in the previous year.\n"
     ]
    },
    {
     "name": "stderr",
     "output_type": "stream",
     "text": [
      "The attention mask and the pad token id were not set. As a consequence, you may observe unexpected behavior. Please pass your input's `attention_mask` to obtain reliable results.\n",
      "Setting `pad_token_id` to `eos_token_id`:50256 for open-end generation.\n"
     ]
    },
    {
     "name": "stdout",
     "output_type": "stream",
     "text": [
      "  Batch   200  of  1,127. Loss: 0.2797248661518097.   Elapsed: 0:03:22.\n",
      "0:  increasingWith all inputs in the list of inputs (including the inputs) you have done a good job on your application.\n"
     ]
    },
    {
     "name": "stderr",
     "output_type": "stream",
     "text": [
      "The attention mask and the pad token id were not set. As a consequence, you may observe unexpected behavior. Please pass your input's `attention_mask` to obtain reliable results.\n",
      "Setting `pad_token_id` to `eos_token_id`:50256 for open-end generation.\n"
     ]
    },
    {
     "name": "stdout",
     "output_type": "stream",
     "text": [
      "  Batch   300  of  1,127. Loss: 0.11012861877679825.   Elapsed: 0:05:05.\n",
      "0: daySo, let's examine the question, as well as what does this \"underlying question\" need to do with the term \"underlying,\" and what does it do for all three characters in the words \"underlying\" and \"underlying\" (where there are no words)?\n"
     ]
    },
    {
     "name": "stderr",
     "output_type": "stream",
     "text": [
      "The attention mask and the pad token id were not set. As a consequence, you may observe unexpected behavior. Please pass your input's `attention_mask` to obtain reliable results.\n",
      "Setting `pad_token_id` to `eos_token_id`:50256 for open-end generation.\n"
     ]
    },
    {
     "name": "stdout",
     "output_type": "stream",
     "text": [
      "  Batch   400  of  1,127. Loss: 0.12081682682037354.   Elapsed: 0:06:48.\n",
      "0:  HangThis is a good bet for keeping track of the wordings of words and the meaning of them, so you can search for words that make sense to you and not just those things we mentioned in the previous chapter.\n"
     ]
    },
    {
     "name": "stderr",
     "output_type": "stream",
     "text": [
      "The attention mask and the pad token id were not set. As a consequence, you may observe unexpected behavior. Please pass your input's `attention_mask` to obtain reliable results.\n",
      "Setting `pad_token_id` to `eos_token_id`:50256 for open-end generation.\n"
     ]
    },
    {
     "name": "stdout",
     "output_type": "stream",
     "text": [
      "  Batch   500  of  1,127. Loss: 0.1238294467329979.   Elapsed: 0:08:30.\n",
      "0:  foodsThey'll help make your Word2Vec vocabulary even more versatile and versatile with a slightly more compact vocabulary.\n"
     ]
    },
    {
     "name": "stderr",
     "output_type": "stream",
     "text": [
      "The attention mask and the pad token id were not set. As a consequence, you may observe unexpected behavior. Please pass your input's `attention_mask` to obtain reliable results.\n",
      "Setting `pad_token_id` to `eos_token_id`:50256 for open-end generation.\n"
     ]
    },
    {
     "name": "stdout",
     "output_type": "stream",
     "text": [
      "  Batch   600  of  1,127. Loss: 0.11063492298126221.   Elapsed: 0:10:12.\n",
      "0:  trailOr if you want to keep track of the number of documents you would need to build an unsupervised network based on the NLP model trained on your dataset, you can use this model to train your neural network:\n"
     ]
    },
    {
     "name": "stderr",
     "output_type": "stream",
     "text": [
      "The attention mask and the pad token id were not set. As a consequence, you may observe unexpected behavior. Please pass your input's `attention_mask` to obtain reliable results.\n",
      "Setting `pad_token_id` to `eos_token_id`:50256 for open-end generation.\n"
     ]
    },
    {
     "name": "stdout",
     "output_type": "stream",
     "text": [
      "  Batch   700  of  1,127. Loss: 0.10929149389266968.   Elapsed: 0:11:55.\n",
      "0: intendIt just looks like the \"word\" in your words or text.\n"
     ]
    },
    {
     "name": "stderr",
     "output_type": "stream",
     "text": [
      "The attention mask and the pad token id were not set. As a consequence, you may observe unexpected behavior. Please pass your input's `attention_mask` to obtain reliable results.\n",
      "Setting `pad_token_id` to `eos_token_id`:50256 for open-end generation.\n"
     ]
    },
    {
     "name": "stdout",
     "output_type": "stream",
     "text": [
      "  Batch   800  of  1,127. Loss: 0.11703460663557053.   Elapsed: 0:13:37.\n",
      "0:  surround* The real magic is in building one or two \"hot places\" so you don't accidentally blow away the front.\n"
     ]
    },
    {
     "name": "stderr",
     "output_type": "stream",
     "text": [
      "The attention mask and the pad token id were not set. As a consequence, you may observe unexpected behavior. Please pass your input's `attention_mask` to obtain reliable results.\n",
      "Setting `pad_token_id` to `eos_token_id`:50256 for open-end generation.\n"
     ]
    },
    {
     "name": "stdout",
     "output_type": "stream",
     "text": [
      "  Batch   900  of  1,127. Loss: 0.10031958669424057.   Elapsed: 0:15:20.\n",
      "0:  reflexAnd all those words are exactly where you want it.\n"
     ]
    },
    {
     "name": "stderr",
     "output_type": "stream",
     "text": [
      "The attention mask and the pad token id were not set. As a consequence, you may observe unexpected behavior. Please pass your input's `attention_mask` to obtain reliable results.\n",
      "Setting `pad_token_id` to `eos_token_id`:50256 for open-end generation.\n"
     ]
    },
    {
     "name": "stdout",
     "output_type": "stream",
     "text": [
      "  Batch 1,000  of  1,127. Loss: 0.11619077622890472.   Elapsed: 0:17:02.\n",
      "0:  displayAnd they would help us recognize patterns in our data - such as meaning or context rather than text or documents.\n"
     ]
    },
    {
     "name": "stderr",
     "output_type": "stream",
     "text": [
      "The attention mask and the pad token id were not set. As a consequence, you may observe unexpected behavior. Please pass your input's `attention_mask` to obtain reliable results.\n",
      "Setting `pad_token_id` to `eos_token_id`:50256 for open-end generation.\n"
     ]
    },
    {
     "name": "stdout",
     "output_type": "stream",
     "text": [
      "  Batch 1,100  of  1,127. Loss: 0.10318755358457565.   Elapsed: 0:18:44.\n",
      "0:  pastorTo save you time and improve your NLP pipelines.\n",
      "\n",
      "  Average training loss: 0.19\n",
      "  Training epoch took: 0:19:11\n",
      "\n",
      "Running Validation...\n",
      "  Validation Loss: 0.12\n",
      "  Validation took: 0:00:44\n",
      "\n",
      "======== Epoch 2 / 5 ========\n",
      "Training...\n"
     ]
    },
    {
     "name": "stderr",
     "output_type": "stream",
     "text": [
      "The attention mask and the pad token id were not set. As a consequence, you may observe unexpected behavior. Please pass your input's `attention_mask` to obtain reliable results.\n",
      "Setting `pad_token_id` to `eos_token_id`:50256 for open-end generation.\n"
     ]
    },
    {
     "name": "stdout",
     "output_type": "stream",
     "text": [
      "  Batch   100  of  1,127. Loss: 0.07727202773094177.   Elapsed: 0:01:42.\n",
      "0:  illicitThe LSA function on the GPU keeps a record of the counts at the beginning and end of the input and outputs.\n"
     ]
    },
    {
     "name": "stderr",
     "output_type": "stream",
     "text": [
      "The attention mask and the pad token id were not set. As a consequence, you may observe unexpected behavior. Please pass your input's `attention_mask` to obtain reliable results.\n",
      "Setting `pad_token_id` to `eos_token_id`:50256 for open-end generation.\n"
     ]
    },
    {
     "name": "stdout",
     "output_type": "stream",
     "text": [
      "  Batch   200  of  1,127. Loss: 0.1286669671535492.   Elapsed: 0:03:25.\n",
      "0:  LiberationThe term `kotopekaladenize` was originally used as a synonym for `kotopekaladenize` which refers to the combination of two approaches, one based on a single set of vectors, and the other based on a cluster of individual tokens or clusters of words.\n"
     ]
    },
    {
     "name": "stderr",
     "output_type": "stream",
     "text": [
      "The attention mask and the pad token id were not set. As a consequence, you may observe unexpected behavior. Please pass your input's `attention_mask` to obtain reliable results.\n",
      "Setting `pad_token_id` to `eos_token_id`:50256 for open-end generation.\n"
     ]
    },
    {
     "name": "stdout",
     "output_type": "stream",
     "text": [
      "  Batch   300  of  1,127. Loss: 0.10640221834182739.   Elapsed: 0:05:08.\n",
      "0:  NamFor some NLP problems, stemming, lemmatization, stemming matrices, lemmatization matrices can also be useful.\n"
     ]
    },
    {
     "name": "stderr",
     "output_type": "stream",
     "text": [
      "The attention mask and the pad token id were not set. As a consequence, you may observe unexpected behavior. Please pass your input's `attention_mask` to obtain reliable results.\n",
      "Setting `pad_token_id` to `eos_token_id`:50256 for open-end generation.\n"
     ]
    },
    {
     "name": "stdout",
     "output_type": "stream",
     "text": [
      "  Batch   400  of  1,127. Loss: 0.12460142374038696.   Elapsed: 0:06:50.\n",
      "0: IONA few researchers now use word embeddings to classify and label word usage based on their usage, and to help their users survive overzealous search engines.\n"
     ]
    },
    {
     "name": "stderr",
     "output_type": "stream",
     "text": [
      "The attention mask and the pad token id were not set. As a consequence, you may observe unexpected behavior. Please pass your input's `attention_mask` to obtain reliable results.\n",
      "Setting `pad_token_id` to `eos_token_id`:50256 for open-end generation.\n"
     ]
    },
    {
     "name": "stdout",
     "output_type": "stream",
     "text": [
      "  Batch   500  of  1,127. Loss: 0.09105958789587021.   Elapsed: 0:08:33.\n",
      "0:  glimpseA vector holds a single input to the brain, it is a one-hot encoded short term memory.\n"
     ]
    },
    {
     "name": "stderr",
     "output_type": "stream",
     "text": [
      "The attention mask and the pad token id were not set. As a consequence, you may observe unexpected behavior. Please pass your input's `attention_mask` to obtain reliable results.\n",
      "Setting `pad_token_id` to `eos_token_id`:50256 for open-end generation.\n"
     ]
    },
    {
     "name": "stdout",
     "output_type": "stream",
     "text": [
      "  Batch   600  of  1,127. Loss: 0.13372330367565155.   Elapsed: 0:10:15.\n",
      "0:  LaureThat is why you'll have to do a lot of tedious work to train a fully-connected neural network.\n"
     ]
    },
    {
     "name": "stderr",
     "output_type": "stream",
     "text": [
      "The attention mask and the pad token id were not set. As a consequence, you may observe unexpected behavior. Please pass your input's `attention_mask` to obtain reliable results.\n",
      "Setting `pad_token_id` to `eos_token_id`:50256 for open-end generation.\n"
     ]
    },
    {
     "name": "stdout",
     "output_type": "stream",
     "text": [
      "  Batch   700  of  1,127. Loss: 0.11979687958955765.   Elapsed: 0:11:58.\n",
      "0: ismThe model may also have a \"fittest\" score (fittest score: 1 in this dataset) that tells the machine what the most interesting (best) combination of words is in it.\n"
     ]
    },
    {
     "name": "stderr",
     "output_type": "stream",
     "text": [
      "The attention mask and the pad token id were not set. As a consequence, you may observe unexpected behavior. Please pass your input's `attention_mask` to obtain reliable results.\n",
      "Setting `pad_token_id` to `eos_token_id`:50256 for open-end generation.\n"
     ]
    },
    {
     "name": "stdout",
     "output_type": "stream",
     "text": [
      "  Batch   800  of  1,127. Loss: 0.1237281858921051.   Elapsed: 0:13:40.\n",
      "0: ounIt allows us to use a small set of words to compose a word whose meaning can be determined by our brains, in our everyday lives.\n"
     ]
    },
    {
     "name": "stderr",
     "output_type": "stream",
     "text": [
      "The attention mask and the pad token id were not set. As a consequence, you may observe unexpected behavior. Please pass your input's `attention_mask` to obtain reliable results.\n",
      "Setting `pad_token_id` to `eos_token_id`:50256 for open-end generation.\n"
     ]
    },
    {
     "name": "stdout",
     "output_type": "stream",
     "text": [
      "  Batch   900  of  1,127. Loss: 0.16784775257110596.   Elapsed: 0:15:23.\n",
      "0:  electionThe `TruncatedSVD` implementation (`TruncatedSVD` or `DistributedSVD`) can be used to identify the presence or absence of the presence or absence of a particular _semantic similarity_ (semantic frequency).\n"
     ]
    },
    {
     "name": "stderr",
     "output_type": "stream",
     "text": [
      "The attention mask and the pad token id were not set. As a consequence, you may observe unexpected behavior. Please pass your input's `attention_mask` to obtain reliable results.\n",
      "Setting `pad_token_id` to `eos_token_id`:50256 for open-end generation.\n"
     ]
    },
    {
     "name": "stdout",
     "output_type": "stream",
     "text": [
      "  Batch 1,000  of  1,127. Loss: 0.06738443672657013.   Elapsed: 0:17:06.\n",
      "0:  crazyWe don't have to tell you what they are like to have a cup of coffee in an open ocean.\n"
     ]
    },
    {
     "name": "stderr",
     "output_type": "stream",
     "text": [
      "The attention mask and the pad token id were not set. As a consequence, you may observe unexpected behavior. Please pass your input's `attention_mask` to obtain reliable results.\n",
      "Setting `pad_token_id` to `eos_token_id`:50256 for open-end generation.\n"
     ]
    },
    {
     "name": "stdout",
     "output_type": "stream",
     "text": [
      "  Batch 1,100  of  1,127. Loss: 0.13038012385368347.   Elapsed: 0:18:48.\n",
      "0:  benchImagine trying to answer questions in English and then get the answer to a question in Arabic.\n",
      "\n",
      "  Average training loss: 0.10\n",
      "  Training epoch took: 0:19:15\n",
      "\n",
      "Running Validation...\n",
      "  Validation Loss: 0.12\n",
      "  Validation took: 0:00:44\n",
      "\n",
      "======== Epoch 3 / 5 ========\n",
      "Training...\n"
     ]
    },
    {
     "name": "stderr",
     "output_type": "stream",
     "text": [
      "The attention mask and the pad token id were not set. As a consequence, you may observe unexpected behavior. Please pass your input's `attention_mask` to obtain reliable results.\n",
      "Setting `pad_token_id` to `eos_token_id`:50256 for open-end generation.\n"
     ]
    },
    {
     "name": "stdout",
     "output_type": "stream",
     "text": [
      "  Batch   100  of  1,127. Loss: 0.09180610626935959.   Elapsed: 0:01:42.\n",
      "0:  incorporatedIn the previous sections, you had to explain the math that your neural network needs to perform all the \"squishing\" on the statistics to get you down on this high score.\n"
     ]
    },
    {
     "name": "stderr",
     "output_type": "stream",
     "text": [
      "The attention mask and the pad token id were not set. As a consequence, you may observe unexpected behavior. Please pass your input's `attention_mask` to obtain reliable results.\n",
      "Setting `pad_token_id` to `eos_token_id`:50256 for open-end generation.\n"
     ]
    },
    {
     "name": "stdout",
     "output_type": "stream",
     "text": [
      "  Batch   200  of  1,127. Loss: 0.1113949716091156.   Elapsed: 0:03:25.\n",
      "0: PeterImagine we were trying to tell our bot what to say in our greeting intent.\n"
     ]
    },
    {
     "name": "stderr",
     "output_type": "stream",
     "text": [
      "The attention mask and the pad token id were not set. As a consequence, you may observe unexpected behavior. Please pass your input's `attention_mask` to obtain reliable results.\n",
      "Setting `pad_token_id` to `eos_token_id`:50256 for open-end generation.\n"
     ]
    },
    {
     "name": "stdout",
     "output_type": "stream",
     "text": [
      "  Batch   300  of  1,127. Loss: 0.059887468814849854.   Elapsed: 0:05:07.\n",
      "0: uring* How do you process word embeddings?\n"
     ]
    },
    {
     "name": "stderr",
     "output_type": "stream",
     "text": [
      "The attention mask and the pad token id were not set. As a consequence, you may observe unexpected behavior. Please pass your input's `attention_mask` to obtain reliable results.\n",
      "Setting `pad_token_id` to `eos_token_id`:50256 for open-end generation.\n"
     ]
    },
    {
     "name": "stdout",
     "output_type": "stream",
     "text": [
      "  Batch   400  of  1,127. Loss: 0.09539409726858139.   Elapsed: 0:06:50.\n",
      "0:  reproductiveSo that's what you'd like to do.\n"
     ]
    },
    {
     "name": "stderr",
     "output_type": "stream",
     "text": [
      "The attention mask and the pad token id were not set. As a consequence, you may observe unexpected behavior. Please pass your input's `attention_mask` to obtain reliable results.\n",
      "Setting `pad_token_id` to `eos_token_id`:50256 for open-end generation.\n"
     ]
    },
    {
     "name": "stdout",
     "output_type": "stream",
     "text": [
      "  Batch   500  of  1,127. Loss: 0.09729322046041489.   Elapsed: 0:08:32.\n",
      "0:  zoneBut what about \"better\" tokens?\n"
     ]
    },
    {
     "name": "stderr",
     "output_type": "stream",
     "text": [
      "The attention mask and the pad token id were not set. As a consequence, you may observe unexpected behavior. Please pass your input's `attention_mask` to obtain reliable results.\n",
      "Setting `pad_token_id` to `eos_token_id`:50256 for open-end generation.\n"
     ]
    },
    {
     "name": "stdout",
     "output_type": "stream",
     "text": [
      "  Batch   600  of  1,127. Loss: 0.061232078820466995.   Elapsed: 0:10:14.\n",
      "0:  commitsThat's why machine learning and other natural language processing is so powerful.\n"
     ]
    },
    {
     "name": "stderr",
     "output_type": "stream",
     "text": [
      "The attention mask and the pad token id were not set. As a consequence, you may observe unexpected behavior. Please pass your input's `attention_mask` to obtain reliable results.\n",
      "Setting `pad_token_id` to `eos_token_id`:50256 for open-end generation.\n"
     ]
    },
    {
     "name": "stdout",
     "output_type": "stream",
     "text": [
      "  Batch   700  of  1,127. Loss: 0.08346995711326599.   Elapsed: 0:11:57.\n",
      "0:  ironyNow you can use SpaCy to extract information from text using the SpaCy logic gate (`re()`).\n"
     ]
    },
    {
     "name": "stderr",
     "output_type": "stream",
     "text": [
      "The attention mask and the pad token id were not set. As a consequence, you may observe unexpected behavior. Please pass your input's `attention_mask` to obtain reliable results.\n",
      "Setting `pad_token_id` to `eos_token_id`:50256 for open-end generation.\n"
     ]
    },
    {
     "name": "stdout",
     "output_type": "stream",
     "text": [
      "  Batch   800  of  1,127. Loss: 0.09159547835588455.   Elapsed: 0:13:39.\n",
      "0:  SahTo figure out why they are better than all the others for this single token _duckduck_duck_duck training set you need a couple of random samples and the training data.\n"
     ]
    },
    {
     "name": "stderr",
     "output_type": "stream",
     "text": [
      "The attention mask and the pad token id were not set. As a consequence, you may observe unexpected behavior. Please pass your input's `attention_mask` to obtain reliable results.\n",
      "Setting `pad_token_id` to `eos_token_id`:50256 for open-end generation.\n"
     ]
    },
    {
     "name": "stdout",
     "output_type": "stream",
     "text": [
      "  Batch   900  of  1,127. Loss: 0.0840497761964798.   Elapsed: 0:15:22.\n",
      "0:  BryanYou can even use these \"mini\" datasets to train some regular expressions.\n"
     ]
    },
    {
     "name": "stderr",
     "output_type": "stream",
     "text": [
      "The attention mask and the pad token id were not set. As a consequence, you may observe unexpected behavior. Please pass your input's `attention_mask` to obtain reliable results.\n",
      "Setting `pad_token_id` to `eos_token_id`:50256 for open-end generation.\n"
     ]
    },
    {
     "name": "stdout",
     "output_type": "stream",
     "text": [
      "  Batch 1,000  of  1,127. Loss: 0.07157456129789352.   Elapsed: 0:17:04.\n",
      "0:  spiritsBut for now you only need to use LDA (Linear Dirichlet Allocation) to find the single vector nearest to your topic.\n"
     ]
    },
    {
     "name": "stderr",
     "output_type": "stream",
     "text": [
      "The attention mask and the pad token id were not set. As a consequence, you may observe unexpected behavior. Please pass your input's `attention_mask` to obtain reliable results.\n",
      "Setting `pad_token_id` to `eos_token_id`:50256 for open-end generation.\n"
     ]
    },
    {
     "name": "stdout",
     "output_type": "stream",
     "text": [
      "  Batch 1,100  of  1,127. Loss: 0.05783459544181824.   Elapsed: 0:18:47.\n",
      "0:  seesA nice little feature you could change is the order the words that appear within each sentence, because the order is determined by how far apart a pair of words are in your topic and where those words should end.\n",
      "\n",
      "  Average training loss: 0.08\n",
      "  Training epoch took: 0:19:14\n",
      "\n",
      "Running Validation...\n",
      "  Validation Loss: 0.12\n",
      "  Validation took: 0:00:44\n",
      "\n",
      "======== Epoch 4 / 5 ========\n",
      "Training...\n"
     ]
    },
    {
     "name": "stderr",
     "output_type": "stream",
     "text": [
      "The attention mask and the pad token id were not set. As a consequence, you may observe unexpected behavior. Please pass your input's `attention_mask` to obtain reliable results.\n",
      "Setting `pad_token_id` to `eos_token_id`:50256 for open-end generation.\n"
     ]
    },
    {
     "name": "stdout",
     "output_type": "stream",
     "text": [
      "  Batch   100  of  1,127. Loss: 0.05730636417865753.   Elapsed: 0:01:43.\n",
      "0:  hungryA good first chatbot will let you know the sentiment and sentiment associated with each response.\n"
     ]
    },
    {
     "name": "stderr",
     "output_type": "stream",
     "text": [
      "The attention mask and the pad token id were not set. As a consequence, you may observe unexpected behavior. Please pass your input's `attention_mask` to obtain reliable results.\n",
      "Setting `pad_token_id` to `eos_token_id`:50256 for open-end generation.\n"
     ]
    },
    {
     "name": "stdout",
     "output_type": "stream",
     "text": [
      "  Batch   200  of  1,127. Loss: 0.0734810158610344.   Elapsed: 0:03:25.\n",
      "0:  PTThey also create a huge list of stopwords to stop short of explicitly labeling a word with the stem `.`.\n"
     ]
    },
    {
     "name": "stderr",
     "output_type": "stream",
     "text": [
      "The attention mask and the pad token id were not set. As a consequence, you may observe unexpected behavior. Please pass your input's `attention_mask` to obtain reliable results.\n",
      "Setting `pad_token_id` to `eos_token_id`:50256 for open-end generation.\n"
     ]
    },
    {
     "name": "stdout",
     "output_type": "stream",
     "text": [
      "  Batch   300  of  1,127. Loss: 0.0578208826482296.   Elapsed: 0:05:07.\n",
      "0: üThe character for female is a combination of the characters for female.\n"
     ]
    },
    {
     "name": "stderr",
     "output_type": "stream",
     "text": [
      "The attention mask and the pad token id were not set. As a consequence, you may observe unexpected behavior. Please pass your input's `attention_mask` to obtain reliable results.\n",
      "Setting `pad_token_id` to `eos_token_id`:50256 for open-end generation.\n"
     ]
    },
    {
     "name": "stdout",
     "output_type": "stream",
     "text": [
      "  Batch   400  of  1,127. Loss: 0.06713144481182098.   Elapsed: 0:06:50.\n",
      "0: ruceBut this can be a problem for languages like Ada, Bash, and C, and most importantly for web search and content-uploaded content.\n"
     ]
    },
    {
     "name": "stderr",
     "output_type": "stream",
     "text": [
      "The attention mask and the pad token id were not set. As a consequence, you may observe unexpected behavior. Please pass your input's `attention_mask` to obtain reliable results.\n",
      "Setting `pad_token_id` to `eos_token_id`:50256 for open-end generation.\n"
     ]
    },
    {
     "name": "stdout",
     "output_type": "stream",
     "text": [
      "  Batch   500  of  1,127. Loss: 0.06220017746090889.   Elapsed: 0:08:32.\n",
      "0:  derivativesAn RNN needs only one neuron for each output (output) and only one kernel for each output (output).\n"
     ]
    },
    {
     "name": "stderr",
     "output_type": "stream",
     "text": [
      "The attention mask and the pad token id were not set. As a consequence, you may observe unexpected behavior. Please pass your input's `attention_mask` to obtain reliable results.\n",
      "Setting `pad_token_id` to `eos_token_id`:50256 for open-end generation.\n"
     ]
    },
    {
     "name": "stdout",
     "output_type": "stream",
     "text": [
      "  Batch   600  of  1,127. Loss: 0.053184233605861664.   Elapsed: 0:10:15.\n",
      "0: \u0019And your code is actually recycling the output from the previous model.\n"
     ]
    },
    {
     "name": "stderr",
     "output_type": "stream",
     "text": [
      "The attention mask and the pad token id were not set. As a consequence, you may observe unexpected behavior. Please pass your input's `attention_mask` to obtain reliable results.\n",
      "Setting `pad_token_id` to `eos_token_id`:50256 for open-end generation.\n"
     ]
    },
    {
     "name": "stdout",
     "output_type": "stream",
     "text": [
      "  Batch   700  of  1,127. Loss: 0.08740857988595963.   Elapsed: 0:11:57.\n",
      "0:  rememberingWhen you multiply words by TF-IDF vectors, they get a sequence of words, typically one-hot encoded TF-IDF vectors for your documents.\n"
     ]
    },
    {
     "name": "stderr",
     "output_type": "stream",
     "text": [
      "The attention mask and the pad token id were not set. As a consequence, you may observe unexpected behavior. Please pass your input's `attention_mask` to obtain reliable results.\n",
      "Setting `pad_token_id` to `eos_token_id`:50256 for open-end generation.\n"
     ]
    },
    {
     "name": "stdout",
     "output_type": "stream",
     "text": [
      "  Batch   800  of  1,127. Loss: 0.09287717938423157.   Elapsed: 0:13:39.\n",
      "0:  Sources* Understanding sentiment and word embeddings\n"
     ]
    },
    {
     "name": "stderr",
     "output_type": "stream",
     "text": [
      "The attention mask and the pad token id were not set. As a consequence, you may observe unexpected behavior. Please pass your input's `attention_mask` to obtain reliable results.\n",
      "Setting `pad_token_id` to `eos_token_id`:50256 for open-end generation.\n"
     ]
    },
    {
     "name": "stdout",
     "output_type": "stream",
     "text": [
      "  Batch   900  of  1,127. Loss: 0.06111345812678337.   Elapsed: 0:15:21.\n",
      "0: emsYou should have a consistent length for the padding tokens required to keep track of which words are where.\n"
     ]
    },
    {
     "name": "stderr",
     "output_type": "stream",
     "text": [
      "The attention mask and the pad token id were not set. As a consequence, you may observe unexpected behavior. Please pass your input's `attention_mask` to obtain reliable results.\n",
      "Setting `pad_token_id` to `eos_token_id`:50256 for open-end generation.\n"
     ]
    },
    {
     "name": "stdout",
     "output_type": "stream",
     "text": [
      "  Batch 1,000  of  1,127. Loss: 0.06452326476573944.   Elapsed: 0:17:04.\n",
      "0: tzAnd the NLTK pipeline will keep you from using all the words it hasn't already seen in all the textbooks.\n"
     ]
    },
    {
     "name": "stderr",
     "output_type": "stream",
     "text": [
      "The attention mask and the pad token id were not set. As a consequence, you may observe unexpected behavior. Please pass your input's `attention_mask` to obtain reliable results.\n",
      "Setting `pad_token_id` to `eos_token_id`:50256 for open-end generation.\n"
     ]
    },
    {
     "name": "stdout",
     "output_type": "stream",
     "text": [
      "  Batch 1,100  of  1,127. Loss: 0.06966690719127655.   Elapsed: 0:18:46.\n",
      "0: maticThis kind of artificial neural network architectures first popularized in the academic papers of Tomas Mikolov and Geoffrey Zweig.\n",
      "\n",
      "  Average training loss: 0.07\n",
      "  Training epoch took: 0:19:13\n",
      "\n",
      "Running Validation...\n",
      "  Validation Loss: 0.13\n",
      "  Validation took: 0:00:44\n",
      "\n",
      "======== Epoch 5 / 5 ========\n",
      "Training...\n"
     ]
    },
    {
     "name": "stderr",
     "output_type": "stream",
     "text": [
      "The attention mask and the pad token id were not set. As a consequence, you may observe unexpected behavior. Please pass your input's `attention_mask` to obtain reliable results.\n",
      "Setting `pad_token_id` to `eos_token_id`:50256 for open-end generation.\n"
     ]
    },
    {
     "name": "stdout",
     "output_type": "stream",
     "text": [
      "  Batch   100  of  1,127. Loss: 0.04701196029782295.   Elapsed: 0:01:43.\n",
      "0:  syndFor example, the Python `nn.Embedding` layer can embed the convolution into convolutional filters as you are processing a sequence of 2 or more convolutions within a convolutional layer.\n"
     ]
    },
    {
     "name": "stderr",
     "output_type": "stream",
     "text": [
      "The attention mask and the pad token id were not set. As a consequence, you may observe unexpected behavior. Please pass your input's `attention_mask` to obtain reliable results.\n",
      "Setting `pad_token_id` to `eos_token_id`:50256 for open-end generation.\n"
     ]
    },
    {
     "name": "stdout",
     "output_type": "stream",
     "text": [
      "  Batch   200  of  1,127. Loss: 0.05799892917275429.   Elapsed: 0:03:25.\n",
      "0:  gamEach unit in your perceptron can have attributes, or weights, that control its own understanding of the world.\n"
     ]
    },
    {
     "name": "stderr",
     "output_type": "stream",
     "text": [
      "The attention mask and the pad token id were not set. As a consequence, you may observe unexpected behavior. Please pass your input's `attention_mask` to obtain reliable results.\n",
      "Setting `pad_token_id` to `eos_token_id`:50256 for open-end generation.\n"
     ]
    },
    {
     "name": "stdout",
     "output_type": "stream",
     "text": [
      "  Batch   300  of  1,127. Loss: 0.04723624512553215.   Elapsed: 0:05:07.\n",
      "0:  injuryAnd it does not need to understand that you can find documents where you can use them to achieve high performance or validation.\n"
     ]
    },
    {
     "name": "stderr",
     "output_type": "stream",
     "text": [
      "The attention mask and the pad token id were not set. As a consequence, you may observe unexpected behavior. Please pass your input's `attention_mask` to obtain reliable results.\n",
      "Setting `pad_token_id` to `eos_token_id`:50256 for open-end generation.\n"
     ]
    },
    {
     "name": "stdout",
     "output_type": "stream",
     "text": [
      "  Batch   400  of  1,127. Loss: 0.0678294226527214.   Elapsed: 0:06:49.\n",
      "0: azaIf you want you can disable it by modifying your kernel.\n"
     ]
    },
    {
     "name": "stderr",
     "output_type": "stream",
     "text": [
      "The attention mask and the pad token id were not set. As a consequence, you may observe unexpected behavior. Please pass your input's `attention_mask` to obtain reliable results.\n",
      "Setting `pad_token_id` to `eos_token_id`:50256 for open-end generation.\n"
     ]
    },
    {
     "name": "stdout",
     "output_type": "stream",
     "text": [
      "  Batch   500  of  1,127. Loss: 0.04556809738278389.   Elapsed: 0:08:31.\n",
      "0:  membraneThis is what makes RNNs unique.\n"
     ]
    },
    {
     "name": "stderr",
     "output_type": "stream",
     "text": [
      "The attention mask and the pad token id were not set. As a consequence, you may observe unexpected behavior. Please pass your input's `attention_mask` to obtain reliable results.\n",
      "Setting `pad_token_id` to `eos_token_id`:50256 for open-end generation.\n"
     ]
    },
    {
     "name": "stdout",
     "output_type": "stream",
     "text": [
      "  Batch   600  of  1,127. Loss: 0.041550006717443466.   Elapsed: 0:10:13.\n",
      "0: ijingYou could remove that \"you\" ending from \"you\" so that the stem \"you\" would have a place in your vocabulary for the stem \"Marie Curie\" without too many meaningless \"you.\"\n"
     ]
    },
    {
     "name": "stderr",
     "output_type": "stream",
     "text": [
      "The attention mask and the pad token id were not set. As a consequence, you may observe unexpected behavior. Please pass your input's `attention_mask` to obtain reliable results.\n",
      "Setting `pad_token_id` to `eos_token_id`:50256 for open-end generation.\n"
     ]
    },
    {
     "name": "stdout",
     "output_type": "stream",
     "text": [
      "  Batch   700  of  1,127. Loss: 0.051353972405195236.   Elapsed: 0:11:56.\n",
      "0:  castThat way you don't have to store all the complicated logic required to trigger the output of a linear layer.\n"
     ]
    },
    {
     "name": "stderr",
     "output_type": "stream",
     "text": [
      "The attention mask and the pad token id were not set. As a consequence, you may observe unexpected behavior. Please pass your input's `attention_mask` to obtain reliable results.\n",
      "Setting `pad_token_id` to `eos_token_id`:50256 for open-end generation.\n"
     ]
    },
    {
     "name": "stdout",
     "output_type": "stream",
     "text": [
      "  Batch   800  of  1,127. Loss: 0.05108635872602463.   Elapsed: 0:13:38.\n",
      "0:  purchIt has often been the case that your search results that use keyword search, adverb search and similar techniques can be misleading.\n"
     ]
    },
    {
     "name": "stderr",
     "output_type": "stream",
     "text": [
      "The attention mask and the pad token id were not set. As a consequence, you may observe unexpected behavior. Please pass your input's `attention_mask` to obtain reliable results.\n",
      "Setting `pad_token_id` to `eos_token_id`:50256 for open-end generation.\n"
     ]
    },
    {
     "name": "stdout",
     "output_type": "stream",
     "text": [
      "  Batch   900  of  1,127. Loss: 0.11730971932411194.   Elapsed: 0:15:21.\n",
      "0:  shouldersYour machine is going to be able to see through your words (character 2-grams) and see what you are actually saying.\n"
     ]
    },
    {
     "name": "stderr",
     "output_type": "stream",
     "text": [
      "The attention mask and the pad token id were not set. As a consequence, you may observe unexpected behavior. Please pass your input's `attention_mask` to obtain reliable results.\n",
      "Setting `pad_token_id` to `eos_token_id`:50256 for open-end generation.\n"
     ]
    },
    {
     "name": "stdout",
     "output_type": "stream",
     "text": [
      "  Batch 1,000  of  1,127. Loss: 0.07677747309207916.   Elapsed: 0:17:03.\n",
      "0:  builtSo it's kind of like building a building in reverse.\n"
     ]
    },
    {
     "name": "stderr",
     "output_type": "stream",
     "text": [
      "The attention mask and the pad token id were not set. As a consequence, you may observe unexpected behavior. Please pass your input's `attention_mask` to obtain reliable results.\n",
      "Setting `pad_token_id` to `eos_token_id`:50256 for open-end generation.\n"
     ]
    },
    {
     "name": "stdout",
     "output_type": "stream",
     "text": [
      "  Batch 1,100  of  1,127. Loss: 0.0687505379319191.   Elapsed: 0:18:45.\n",
      "0:  openlyIn this section, you will begin to see how this blending of culture, language, and gender can affect your decisions about when to apply lemmatization to your dataset or how you will decide about tokenizing it.\n",
      "\n",
      "  Average training loss: 0.05\n",
      "  Training epoch took: 0:19:12\n",
      "\n",
      "Running Validation...\n",
      "  Validation Loss: 0.15\n",
      "  Validation took: 0:00:44\n",
      "\n",
      "Training complete!\n",
      "Total training took 1:39:44 (h:mm:ss)\n"
     ]
    }
   ],
   "source": [
    "total_t0 = time.time()\n",
    "\n",
    "training_stats = []\n",
    "\n",
    "model = model.to(device)\n",
    "\n",
    "for epoch_i in range(0, epochs):\n",
    "\n",
    "    # ========================================\n",
    "    #               Training\n",
    "    # ========================================\n",
    "\n",
    "    print(\"\")\n",
    "    print('======== Epoch {:} / {:} ========'.format(epoch_i + 1, epochs))\n",
    "    print('Training...')\n",
    "\n",
    "    t0 = time.time()\n",
    "\n",
    "    total_train_loss = 0\n",
    "\n",
    "    model.train()\n",
    "\n",
    "    for step, batch in enumerate(train_dataloader):\n",
    "\n",
    "        b_input_ids = batch[0].to(device)\n",
    "        b_labels = batch[0].to(device)\n",
    "        b_masks = batch[1].to(device)\n",
    "\n",
    "        model.zero_grad()        \n",
    "\n",
    "        outputs = model(  b_input_ids,\n",
    "                          labels=b_labels, \n",
    "                          attention_mask = b_masks,\n",
    "                          token_type_ids=None\n",
    "                        )\n",
    "\n",
    "        loss = outputs[0]  \n",
    "\n",
    "        batch_loss = loss.item()\n",
    "        total_train_loss += batch_loss\n",
    "\n",
    "        # Get sample every x batches.\n",
    "        if step % sample_every == 0 and not step == 0:\n",
    "\n",
    "            elapsed = format_time(time.time() - t0)\n",
    "            print('  Batch {:>5,}  of  {:>5,}. Loss: {:>5,}.   Elapsed: {:}.'.format(step, len(train_dataloader), batch_loss, elapsed))\n",
    "\n",
    "            model.eval()\n",
    "\n",
    "            sample_outputs = model.generate(\n",
    "                                    bos_token_id=random.randint(1,30000),\n",
    "                                    do_sample=True,   \n",
    "                                    top_k=50, \n",
    "                                    max_length = 200,\n",
    "                                    top_p=0.95, \n",
    "                                    num_return_sequences=1\n",
    "                                )\n",
    "            for i, sample_output in enumerate(sample_outputs):\n",
    "                  print(\"{}: {}\".format(i, tokenizer.decode(sample_output, skip_special_tokens=True)))\n",
    "            \n",
    "            model.train()\n",
    "\n",
    "        loss.backward()\n",
    "\n",
    "        optimizer.step()\n",
    "\n",
    "        scheduler.step()\n",
    "\n",
    "    # Calculate the average loss over all of the batches.\n",
    "    avg_train_loss = total_train_loss / len(train_dataloader)       \n",
    "    \n",
    "    # Measure how long this epoch took.\n",
    "    training_time = format_time(time.time() - t0)\n",
    "\n",
    "    print(\"\")\n",
    "    print(\"  Average training loss: {0:.2f}\".format(avg_train_loss))\n",
    "    print(\"  Training epoch took: {:}\".format(training_time))\n",
    "        \n",
    "    # ========================================\n",
    "    #               Validation\n",
    "    # ========================================\n",
    "\n",
    "    print(\"\")\n",
    "    print(\"Running Validation...\")\n",
    "\n",
    "    t0 = time.time()\n",
    "\n",
    "    model.eval()\n",
    "\n",
    "    total_eval_loss = 0\n",
    "    nb_eval_steps = 0\n",
    "\n",
    "    # Evaluate data for one epoch\n",
    "    for batch in validation_dataloader:\n",
    "        \n",
    "        b_input_ids = batch[0].to(device)\n",
    "        b_labels = batch[0].to(device)\n",
    "        b_masks = batch[1].to(device)\n",
    "        \n",
    "        with torch.no_grad():        \n",
    "\n",
    "            outputs  = model(b_input_ids, \n",
    "#                            token_type_ids=None, \n",
    "                             attention_mask = b_masks,\n",
    "                            labels=b_labels)\n",
    "          \n",
    "            loss = outputs[0]  \n",
    "            \n",
    "        batch_loss = loss.item()\n",
    "        total_eval_loss += batch_loss        \n",
    "\n",
    "    avg_val_loss = total_eval_loss / len(validation_dataloader)\n",
    "    \n",
    "    validation_time = format_time(time.time() - t0)    \n",
    "\n",
    "    print(\"  Validation Loss: {0:.2f}\".format(avg_val_loss))\n",
    "    print(\"  Validation took: {:}\".format(validation_time))\n",
    "\n",
    "    # Record all statistics from this epoch.\n",
    "    training_stats.append(\n",
    "        {\n",
    "            'epoch': epoch_i + 1,\n",
    "            'Training Loss': avg_train_loss,\n",
    "            'Valid. Loss': avg_val_loss,\n",
    "            'Training Time': training_time,\n",
    "            'Validation Time': validation_time\n",
    "        }\n",
    "    )\n",
    "\n",
    "print(\"\")\n",
    "print(\"Training complete!\")\n",
    "print(\"Total training took {:} (h:mm:ss)\".format(format_time(time.time()-total_t0)))"
   ]
  },
  {
   "cell_type": "markdown",
   "metadata": {
    "id": "VQTvJ1vRP7u4"
   },
   "source": [
    "Let's view the summary of the training process."
   ]
  },
  {
   "cell_type": "code",
   "execution_count": 24,
   "metadata": {
    "colab": {
     "base_uri": "https://localhost:8080/",
     "height": 237
    },
    "execution": {
     "iopub.execute_input": "2023-03-24T07:40:31.450946Z",
     "iopub.status.busy": "2023-03-24T07:40:31.450618Z",
     "iopub.status.idle": "2023-03-24T07:40:31.466408Z",
     "shell.execute_reply": "2023-03-24T07:40:31.465270Z",
     "shell.execute_reply.started": "2023-03-24T07:40:31.450920Z"
    },
    "id": "6O_NbXFGMukX",
    "outputId": "ab630e99-525c-4a78-f8a1-a2b4a229dfeb"
   },
   "outputs": [
    {
     "data": {
      "text/html": [
       "<div>\n",
       "<style scoped>\n",
       "    .dataframe tbody tr th:only-of-type {\n",
       "        vertical-align: middle;\n",
       "    }\n",
       "\n",
       "    .dataframe tbody tr th {\n",
       "        vertical-align: top;\n",
       "    }\n",
       "\n",
       "    .dataframe thead th {\n",
       "        text-align: right;\n",
       "    }\n",
       "</style>\n",
       "<table border=\"1\" class=\"dataframe\">\n",
       "  <thead>\n",
       "    <tr style=\"text-align: right;\">\n",
       "      <th></th>\n",
       "      <th>Training Loss</th>\n",
       "      <th>Valid. Loss</th>\n",
       "      <th>Training Time</th>\n",
       "      <th>Validation Time</th>\n",
       "    </tr>\n",
       "    <tr>\n",
       "      <th>epoch</th>\n",
       "      <th></th>\n",
       "      <th></th>\n",
       "      <th></th>\n",
       "      <th></th>\n",
       "    </tr>\n",
       "  </thead>\n",
       "  <tbody>\n",
       "    <tr>\n",
       "      <th>1</th>\n",
       "      <td>0.192283</td>\n",
       "      <td>0.121643</td>\n",
       "      <td>0:19:11</td>\n",
       "      <td>0:00:44</td>\n",
       "    </tr>\n",
       "    <tr>\n",
       "      <th>2</th>\n",
       "      <td>0.103684</td>\n",
       "      <td>0.119630</td>\n",
       "      <td>0:19:15</td>\n",
       "      <td>0:00:44</td>\n",
       "    </tr>\n",
       "    <tr>\n",
       "      <th>3</th>\n",
       "      <td>0.084480</td>\n",
       "      <td>0.123775</td>\n",
       "      <td>0:19:14</td>\n",
       "      <td>0:00:44</td>\n",
       "    </tr>\n",
       "    <tr>\n",
       "      <th>4</th>\n",
       "      <td>0.066680</td>\n",
       "      <td>0.132695</td>\n",
       "      <td>0:19:13</td>\n",
       "      <td>0:00:44</td>\n",
       "    </tr>\n",
       "    <tr>\n",
       "      <th>5</th>\n",
       "      <td>0.049526</td>\n",
       "      <td>0.147393</td>\n",
       "      <td>0:19:12</td>\n",
       "      <td>0:00:44</td>\n",
       "    </tr>\n",
       "  </tbody>\n",
       "</table>\n",
       "</div>"
      ],
      "text/plain": [
       "       Training Loss  Valid. Loss Training Time Validation Time\n",
       "epoch                                                          \n",
       "1           0.192283     0.121643       0:19:11         0:00:44\n",
       "2           0.103684     0.119630       0:19:15         0:00:44\n",
       "3           0.084480     0.123775       0:19:14         0:00:44\n",
       "4           0.066680     0.132695       0:19:13         0:00:44\n",
       "5           0.049526     0.147393       0:19:12         0:00:44"
      ]
     },
     "execution_count": 24,
     "metadata": {},
     "output_type": "execute_result"
    }
   ],
   "source": [
    "# Display floats with two decimal places.\n",
    "#pd.set_option('precision', 2)\n",
    "\n",
    "# Create a DataFrame from our training statistics.\n",
    "df_stats = pd.DataFrame(data=training_stats)\n",
    "\n",
    "# Use the 'epoch' as the row index.\n",
    "df_stats = df_stats.set_index('epoch')\n",
    "\n",
    "# A hack to force the column headers to wrap.\n",
    "#df = df.style.set_table_styles([dict(selector=\"th\",props=[('max-width', '70px')])])\n",
    "\n",
    "# Display the table.\n",
    "df_stats"
   ]
  },
  {
   "cell_type": "code",
   "execution_count": 25,
   "metadata": {
    "colab": {
     "base_uri": "https://localhost:8080/",
     "height": 427
    },
    "execution": {
     "iopub.execute_input": "2023-03-24T07:40:31.468235Z",
     "iopub.status.busy": "2023-03-24T07:40:31.467988Z",
     "iopub.status.idle": "2023-03-24T07:40:31.766548Z",
     "shell.execute_reply": "2023-03-24T07:40:31.765076Z",
     "shell.execute_reply.started": "2023-03-24T07:40:31.468210Z"
    },
    "id": "68xreA9JAmG5",
    "outputId": "d6120ecf-4cb4-4d21-8acd-734c639f2d24"
   },
   "outputs": [
    {
     "data": {
      "image/png": "[encoded data removed]",
      "text/plain": [
       "<Figure size 1200x600 with 1 Axes>"
      ]
     },
     "metadata": {},
     "output_type": "display_data"
    }
   ],
   "source": [
    "# Use plot styling from seaborn.\n",
    "sns.set(style='darkgrid')\n",
    "\n",
    "# Increase the plot size and font size.\n",
    "sns.set(font_scale=1.5)\n",
    "plt.rcParams[\"figure.figsize\"] = (12,6)\n",
    "\n",
    "# Plot the learning curve.\n",
    "plt.plot(df_stats['Training Loss'], 'b-o', label=\"Training\")\n",
    "plt.plot(df_stats['Valid. Loss'], 'g-o', label=\"Validation\")\n",
    "\n",
    "# Label the plot.\n",
    "plt.title(\"Training & Validation Loss\")\n",
    "plt.xlabel(\"Epoch\")\n",
    "plt.ylabel(\"Loss\")\n",
    "plt.legend()\n",
    "plt.xticks([1, 2, 3, 4])\n",
    "\n",
    "plt.show()"
   ]
  },
  {
   "cell_type": "markdown",
   "metadata": {
    "id": "GfjYoa6WmkN6"
   },
   "source": [
    "# Display Model Info"
   ]
  },
  {
   "cell_type": "code",
   "execution_count": 26,
   "metadata": {
    "colab": {
     "base_uri": "https://localhost:8080/"
    },
    "execution": {
     "iopub.execute_input": "2023-03-24T07:40:31.768186Z",
     "iopub.status.busy": "2023-03-24T07:40:31.767860Z",
     "iopub.status.idle": "2023-03-24T07:40:31.778330Z",
     "shell.execute_reply": "2023-03-24T07:40:31.776808Z",
     "shell.execute_reply.started": "2023-03-24T07:40:31.768158Z"
    },
    "id": "8PIiVlDYCtSq",
    "outputId": "2ede58f0-c70f-41ca-8c7a-7c20e4aa67c0"
   },
   "outputs": [
    {
     "name": "stdout",
     "output_type": "stream",
     "text": [
      "The GPT-2 model has 148 different named parameters.\n",
      "\n",
      "==== Embedding Layer ====\n",
      "\n",
      "transformer.wte.weight                                  (50259, 768)\n",
      "transformer.wpe.weight                                   (1024, 768)\n",
      "\n",
      "==== First Transformer ====\n",
      "\n",
      "transformer.h.0.ln_1.weight                                   (768,)\n",
      "transformer.h.0.ln_1.bias                                     (768,)\n",
      "transformer.h.0.attn.c_attn.weight                       (768, 2304)\n",
      "transformer.h.0.attn.c_attn.bias                             (2304,)\n",
      "transformer.h.0.attn.c_proj.weight                        (768, 768)\n",
      "transformer.h.0.attn.c_proj.bias                              (768,)\n",
      "transformer.h.0.ln_2.weight                                   (768,)\n",
      "transformer.h.0.ln_2.bias                                     (768,)\n",
      "transformer.h.0.mlp.c_fc.weight                          (768, 3072)\n",
      "transformer.h.0.mlp.c_fc.bias                                (3072,)\n",
      "transformer.h.0.mlp.c_proj.weight                        (3072, 768)\n",
      "transformer.h.0.mlp.c_proj.bias                               (768,)\n",
      "\n",
      "==== Output Layer ====\n",
      "\n",
      "transformer.ln_f.weight                                       (768,)\n",
      "transformer.ln_f.bias                                         (768,)\n"
     ]
    }
   ],
   "source": [
    "# Get all of the model's parameters as a list of tuples.\n",
    "params = list(model.named_parameters())\n",
    "\n",
    "print('The GPT-2 model has {:} different named parameters.\\n'.format(len(params)))\n",
    "\n",
    "print('==== Embedding Layer ====\\n')\n",
    "\n",
    "for p in params[0:2]:\n",
    "    print(\"{:<55} {:>12}\".format(p[0], str(tuple(p[1].size()))))\n",
    "\n",
    "print('\\n==== First Transformer ====\\n')\n",
    "\n",
    "for p in params[2:14]:\n",
    "    print(\"{:<55} {:>12}\".format(p[0], str(tuple(p[1].size()))))\n",
    "\n",
    "print('\\n==== Output Layer ====\\n')\n",
    "\n",
    "for p in params[-2:]:\n",
    "    print(\"{:<55} {:>12}\".format(p[0], str(tuple(p[1].size()))))"
   ]
  },
  {
   "cell_type": "markdown",
   "metadata": {
    "id": "q2079Qyn8Mt8"
   },
   "source": [
    "# Saving & Loading Fine-Tuned Model\n"
   ]
  },
  {
   "cell_type": "code",
   "execution_count": 27,
   "metadata": {
    "colab": {
     "base_uri": "https://localhost:8080/"
    },
    "execution": {
     "iopub.execute_input": "2023-03-24T07:40:31.780897Z",
     "iopub.status.busy": "2023-03-24T07:40:31.780408Z",
     "iopub.status.idle": "2023-03-24T07:40:32.919761Z",
     "shell.execute_reply": "2023-03-24T07:40:32.918730Z",
     "shell.execute_reply.started": "2023-03-24T07:40:31.780868Z"
    },
    "id": "6ulTWaOr8QNY",
    "outputId": "8c3c5929-b0c2-45af-d99c-d54d39edc105"
   },
   "outputs": [
    {
     "name": "stdout",
     "output_type": "stream",
     "text": [
      "Saving model to model_save/\n"
     ]
    },
    {
     "data": {
      "text/plain": [
       "('model_save/tokenizer_config.json',\n",
       " 'model_save/special_tokens_map.json',\n",
       " 'model_save/vocab.json',\n",
       " 'model_save/merges.txt',\n",
       " 'model_save/added_tokens.json')"
      ]
     },
     "execution_count": 27,
     "metadata": {},
     "output_type": "execute_result"
    }
   ],
   "source": [
    "# Saving best-practices: if you use defaults names for the model, you can reload it using from_pretrained()\n",
    "\n",
    "output_dir = 'model_save/'\n",
    "\n",
    "# Create output directory if needed\n",
    "if not os.path.exists(output_dir):\n",
    "    os.makedirs(output_dir)\n",
    "\n",
    "print(\"Saving model to %s\" % output_dir)\n",
    "\n",
    "# Save a trained model, configuration and tokenizer using `save_pretrained()`.\n",
    "# They can then be reloaded using `from_pretrained()`\n",
    "model_to_save = model.module if hasattr(model, 'module') else model  # Take care of distributed/parallel training\n",
    "model_to_save.save_pretrained(output_dir)\n",
    "tokenizer.save_pretrained(output_dir)\n",
    "\n",
    "# Good practice: save your training arguments together with the trained model\n",
    "# torch.save(args, os.path.join(output_dir, 'training_args.bin'))\n"
   ]
  },
  {
   "cell_type": "code",
   "execution_count": null,
   "metadata": {
    "id": "N0A4wlWFtj40"
   },
   "outputs": [],
   "source": []
  },
  {
   "cell_type": "code",
   "execution_count": 28,
   "metadata": {
    "execution": {
     "iopub.execute_input": "2023-03-24T07:40:32.925080Z",
     "iopub.status.busy": "2023-03-24T07:40:32.924738Z",
     "iopub.status.idle": "2023-03-24T07:40:33.421169Z",
     "shell.execute_reply": "2023-03-24T07:40:33.419899Z",
     "shell.execute_reply.started": "2023-03-24T07:40:32.925055Z"
    },
    "id": "mqMzI3VTCZo5"
   },
   "outputs": [
    {
     "name": "stdout",
     "output_type": "stream",
     "text": [
      "total 499866K\n",
      "-rw-r--r-- 1 root root      1K Mar 24 07:40 added_tokens.json\n",
      "-rw-r--r-- 1 root root      1K Mar 24 07:40 config.json\n",
      "-rw-r--r-- 1 root root    446K Mar 24 07:40 merges.txt\n",
      "-rw-r--r-- 1 root root 498441K Mar 24 07:40 pytorch_model.bin\n",
      "-rw-r--r-- 1 root root      1K Mar 24 07:40 special_tokens_map.json\n",
      "-rw-r--r-- 1 root root      1K Mar 24 07:40 tokenizer_config.json\n",
      "-rw-r--r-- 1 root root    976K Mar 24 07:40 vocab.json\n"
     ]
    }
   ],
   "source": [
    "!ls -l --block-size=K ./model_save/"
   ]
  },
  {
   "cell_type": "code",
   "execution_count": 29,
   "metadata": {
    "execution": {
     "iopub.execute_input": "2023-03-24T07:40:33.422848Z",
     "iopub.status.busy": "2023-03-24T07:40:33.422581Z",
     "iopub.status.idle": "2023-03-24T07:40:33.926584Z",
     "shell.execute_reply": "2023-03-24T07:40:33.925264Z",
     "shell.execute_reply.started": "2023-03-24T07:40:33.422820Z"
    },
    "id": "-WUFUIQ8Cu8D"
   },
   "outputs": [
    {
     "name": "stdout",
     "output_type": "stream",
     "text": [
      "-rw-r--r-- 1 root root 487M Mar 24 07:40 ./model_save/pytorch_model.bin\n"
     ]
    }
   ],
   "source": [
    "!ls -l --block-size=M ./model_save/pytorch_model.bin"
   ]
  },
  {
   "cell_type": "code",
   "execution_count": 30,
   "metadata": {
    "execution": {
     "iopub.execute_input": "2023-03-24T07:40:33.928371Z",
     "iopub.status.busy": "2023-03-24T07:40:33.928068Z",
     "iopub.status.idle": "2023-03-24T07:40:34.427441Z",
     "shell.execute_reply": "2023-03-24T07:40:34.426373Z",
     "shell.execute_reply.started": "2023-03-24T07:40:33.928341Z"
    },
    "id": "NxlZsafTC-V5"
   },
   "outputs": [
    {
     "name": "stdout",
     "output_type": "stream",
     "text": [
      "cp: missing destination file operand after './model_save/'\n",
      "Try 'cp --help' for more information.\n"
     ]
    }
   ],
   "source": [
    "# Copy the model files to a directory in your Google Drive.\n",
    "!cp -r ./model_save/ $data_dir\n",
    "\n",
    "# # Load a trained model and vocabulary that you have fine-tuned\n",
    "#model = GPT2LMHeadModel.from_pretrained(output_dir)\n",
    "#tokenizer = GPT2Tokenizer.from_pretrained(output_dir)\n",
    "#model.to(device)"
   ]
  },
  {
   "cell_type": "markdown",
   "metadata": {
    "id": "ZLf6rbRglYhQ"
   },
   "source": [
    "# Generate Text"
   ]
  },
  {
   "cell_type": "code",
   "execution_count": 31,
   "metadata": {
    "colab": {
     "base_uri": "https://localhost:8080/"
    },
    "execution": {
     "iopub.execute_input": "2023-03-24T07:40:34.429263Z",
     "iopub.status.busy": "2023-03-24T07:40:34.428966Z",
     "iopub.status.idle": "2023-03-24T07:40:35.171261Z",
     "shell.execute_reply": "2023-03-24T07:40:35.169613Z",
     "shell.execute_reply.started": "2023-03-24T07:40:34.429234Z"
    },
    "id": "v4XhewaV93-_",
    "outputId": "be2b4efd-c516-4724-c187-e6cab523d774"
   },
   "outputs": [
    {
     "name": "stderr",
     "output_type": "stream",
     "text": [
      "The attention mask and the pad token id were not set. As a consequence, you may observe unexpected behavior. Please pass your input's `attention_mask` to obtain reliable results.\n",
      "Setting `pad_token_id` to `eos_token_id`:50256 for open-end generation.\n"
     ]
    },
    {
     "name": "stdout",
     "output_type": "stream",
     "text": [
      "tensor([[50257]], device='cuda:0')\n",
      "0: And it's not all that useful!\n",
      "\n",
      "\n",
      "1: Let's see how your LDiA topic model performs on the output from `word2vec` training and the TF-IDF vectors produced by `word2vec` on the training corpus.\n",
      "\n",
      "\n",
      "2: You would have to skim several pages to find the answer you're looking for.\n",
      "\n",
      "\n"
     ]
    }
   ],
   "source": [
    "model.eval()\n",
    "\n",
    "prompt = \"<|startoftext|>\"\n",
    "\n",
    "generated = torch.tensor(tokenizer.encode(prompt)).unsqueeze(0)\n",
    "generated = generated.to(device)\n",
    "\n",
    "print(generated)\n",
    "\n",
    "sample_outputs = model.generate(\n",
    "                                generated, \n",
    "                                #bos_token_id=random.randint(1,30000),\n",
    "                                do_sample=True,   \n",
    "                                top_k=50, \n",
    "                                max_length = 300,\n",
    "                                top_p=0.95, \n",
    "                                num_return_sequences=3\n",
    "                                )\n",
    "\n",
    "for i, sample_output in enumerate(sample_outputs):\n",
    "  print(\"{}: {}\\n\\n\".format(i, tokenizer.decode(sample_output, skip_special_tokens=True)))"
   ]
  },
  {
   "cell_type": "markdown",
   "metadata": {
    "id": "t4LrX5H-0nAU"
   },
   "source": [
    "These aren't bad at all!\n"
   ]
  }
 ],
 "metadata": {
  "accelerator": "GPU",
  "colab": {
   "provenance": []
  },
  "gpuClass": "standard",
  "kernelspec": {
   "display_name": "Python 3 (ipykernel)",
   "language": "python",
   "name": "python3"
  },
  "language_info": {
   "codemirror_mode": {
    "name": "ipython",
    "version": 3
   },
   "file_extension": ".py",
   "mimetype": "text/x-python",
   "name": "python",
   "nbconvert_exporter": "python",
   "pygments_lexer": "ipython3",
   "version": "3.9.16"
  },
  "widgets": {
   "application/vnd.jupyter.widget-state+json": {
    "059088e3b8b8416a8faba5645d1af445": {
     "model_module": "@jupyter-widgets/base",
     "model_module_version": "1.2.0",
     "model_name": "LayoutModel",
     "state": {
      "_model_module": "@jupyter-widgets/base",
      "_model_module_version": "1.2.0",
      "_model_name": "LayoutModel",
      "_view_count": null,
      "_view_module": "@jupyter-widgets/base",
      "_view_module_version": "1.2.0",
      "_view_name": "LayoutView",
      "align_content": null,
      "align_items": null,
      "align_self": null,
      "border": null,
      "bottom": null,
      "display": null,
      "flex": null,
      "flex_flow": null,
      "grid_area": null,
      "grid_auto_columns": null,
      "grid_auto_flow": null,
      "grid_auto_rows": null,
      "grid_column": null,
      "grid_gap": null,
      "grid_row": null,
      "grid_template_areas": null,
      "grid_template_columns": null,
      "grid_template_rows": null,
      "height": null,
      "justify_content": null,
      "justify_items": null,
      "left": null,
      "margin": null,
      "max_height": null,
      "max_width": null,
      "min_height": null,
      "min_width": null,
      "object_fit": null,
      "object_position": null,
      "order": null,
      "overflow": null,
      "overflow_x": null,
      "overflow_y": null,
      "padding": null,
      "right": null,
      "top": null,
      "visibility": null,
      "width": null
     }
    },
    "098d4faa7d67453992f62c5462a35162": {
     "model_module": "@jupyter-widgets/base",
     "model_module_version": "1.2.0",
     "model_name": "LayoutModel",
     "state": {
      "_model_module": "@jupyter-widgets/base",
      "_model_module_version": "1.2.0",
      "_model_name": "LayoutModel",
      "_view_count": null,
      "_view_module": "@jupyter-widgets/base",
      "_view_module_version": "1.2.0",
      "_view_name": "LayoutView",
      "align_content": null,
      "align_items": null,
      "align_self": null,
      "border": null,
      "bottom": null,
      "display": null,
      "flex": null,
      "flex_flow": null,
      "grid_area": null,
      "grid_auto_columns": null,
      "grid_auto_flow": null,
      "grid_auto_rows": null,
      "grid_column": null,
      "grid_gap": null,
      "grid_row": null,
      "grid_template_areas": null,
      "grid_template_columns": null,
      "grid_template_rows": null,
      "height": null,
      "justify_content": null,
      "justify_items": null,
      "left": null,
      "margin": null,
      "max_height": null,
      "max_width": null,
      "min_height": null,
      "min_width": null,
      "object_fit": null,
      "object_position": null,
      "order": null,
      "overflow": null,
      "overflow_x": null,
      "overflow_y": null,
      "padding": null,
      "right": null,
      "top": null,
      "visibility": null,
      "width": null
     }
    },
    "12b5d63803594e9486ea2d54d17c700e": {
     "model_module": "@jupyter-widgets/controls",
     "model_module_version": "1.5.0",
     "model_name": "ProgressStyleModel",
     "state": {
      "_model_module": "@jupyter-widgets/controls",
      "_model_module_version": "1.5.0",
      "_model_name": "ProgressStyleModel",
      "_view_count": null,
      "_view_module": "@jupyter-widgets/base",
      "_view_module_version": "1.2.0",
      "_view_name": "StyleView",
      "bar_color": null,
      "description_width": ""
     }
    },
    "14dc09208bb045b893cc04bcc66321d4": {
     "model_module": "@jupyter-widgets/controls",
     "model_module_version": "1.5.0",
     "model_name": "HBoxModel",
     "state": {
      "_dom_classes": [],
      "_model_module": "@jupyter-widgets/controls",
      "_model_module_version": "1.5.0",
      "_model_name": "HBoxModel",
      "_view_count": null,
      "_view_module": "@jupyter-widgets/controls",
      "_view_module_version": "1.5.0",
      "_view_name": "HBoxView",
      "box_style": "",
      "children": [
       "IPY_MODEL_77002b2b37f8482db072a675585ad9c9",
       "IPY_MODEL_663be58549504ba5a87698681a408ceb",
       "IPY_MODEL_a747e0d9ff8444f59bebea50619aac78"
      ],
      "layout": "IPY_MODEL_8630cbaa217846628d8c6963ea5694d4"
     }
    },
    "1dc803a8decd4d69b08645d5da4ec1c6": {
     "model_module": "@jupyter-widgets/base",
     "model_module_version": "1.2.0",
     "model_name": "LayoutModel",
     "state": {
      "_model_module": "@jupyter-widgets/base",
      "_model_module_version": "1.2.0",
      "_model_name": "LayoutModel",
      "_view_count": null,
      "_view_module": "@jupyter-widgets/base",
      "_view_module_version": "1.2.0",
      "_view_name": "LayoutView",
      "align_content": null,
      "align_items": null,
      "align_self": null,
      "border": null,
      "bottom": null,
      "display": null,
      "flex": null,
      "flex_flow": null,
      "grid_area": null,
      "grid_auto_columns": null,
      "grid_auto_flow": null,
      "grid_auto_rows": null,
      "grid_column": null,
      "grid_gap": null,
      "grid_row": null,
      "grid_template_areas": null,
      "grid_template_columns": null,
      "grid_template_rows": null,
      "height": null,
      "justify_content": null,
      "justify_items": null,
      "left": null,
      "margin": null,
      "max_height": null,
      "max_width": null,
      "min_height": null,
      "min_width": null,
      "object_fit": null,
      "object_position": null,
      "order": null,
      "overflow": null,
      "overflow_x": null,
      "overflow_y": null,
      "padding": null,
      "right": null,
      "top": null,
      "visibility": null,
      "width": null
     }
    },
    "1f7e3118148d45c3ad1697d7321f8ec0": {
     "model_module": "@jupyter-widgets/base",
     "model_module_version": "1.2.0",
     "model_name": "LayoutModel",
     "state": {
      "_model_module": "@jupyter-widgets/base",
      "_model_module_version": "1.2.0",
      "_model_name": "LayoutModel",
      "_view_count": null,
      "_view_module": "@jupyter-widgets/base",
      "_view_module_version": "1.2.0",
      "_view_name": "LayoutView",
      "align_content": null,
      "align_items": null,
      "align_self": null,
      "border": null,
      "bottom": null,
      "display": null,
      "flex": null,
      "flex_flow": null,
      "grid_area": null,
      "grid_auto_columns": null,
      "grid_auto_flow": null,
      "grid_auto_rows": null,
      "grid_column": null,
      "grid_gap": null,
      "grid_row": null,
      "grid_template_areas": null,
      "grid_template_columns": null,
      "grid_template_rows": null,
      "height": null,
      "justify_content": null,
      "justify_items": null,
      "left": null,
      "margin": null,
      "max_height": null,
      "max_width": null,
      "min_height": null,
      "min_width": null,
      "object_fit": null,
      "object_position": null,
      "order": null,
      "overflow": null,
      "overflow_x": null,
      "overflow_y": null,
      "padding": null,
      "right": null,
      "top": null,
      "visibility": null,
      "width": null
     }
    },
    "2066a23a01944d569d6112ce6c794ada": {
     "model_module": "@jupyter-widgets/controls",
     "model_module_version": "1.5.0",
     "model_name": "ProgressStyleModel",
     "state": {
      "_model_module": "@jupyter-widgets/controls",
      "_model_module_version": "1.5.0",
      "_model_name": "ProgressStyleModel",
      "_view_count": null,
      "_view_module": "@jupyter-widgets/base",
      "_view_module_version": "1.2.0",
      "_view_name": "StyleView",
      "bar_color": null,
      "description_width": ""
     }
    },
    "21c7c20a77044de3805d05225317170e": {
     "model_module": "@jupyter-widgets/controls",
     "model_module_version": "1.5.0",
     "model_name": "HTMLModel",
     "state": {
      "_dom_classes": [],
      "_model_module": "@jupyter-widgets/controls",
      "_model_module_version": "1.5.0",
      "_model_name": "HTMLModel",
      "_view_count": null,
      "_view_module": "@jupyter-widgets/controls",
      "_view_module_version": "1.5.0",
      "_view_name": "HTMLView",
      "description": "",
      "description_tooltip": null,
      "layout": "IPY_MODEL_e105959a550448d1b15a8ce5afc6e286",
      "placeholder": "​",
      "style": "IPY_MODEL_9ab1a1b4d87049d48a06fd5153238b13",
      "value": " 665/665 [00:00&lt;00:00, 28.2kB/s]"
     }
    },
    "222f385784c24a0c905374fc36bf3a83": {
     "model_module": "@jupyter-widgets/controls",
     "model_module_version": "1.5.0",
     "model_name": "HTMLModel",
     "state": {
      "_dom_classes": [],
      "_model_module": "@jupyter-widgets/controls",
      "_model_module_version": "1.5.0",
      "_model_name": "HTMLModel",
      "_view_count": null,
      "_view_module": "@jupyter-widgets/controls",
      "_view_module_version": "1.5.0",
      "_view_name": "HTMLView",
      "description": "",
      "description_tooltip": null,
      "layout": "IPY_MODEL_642202dc36f249d1b4c19e60f5bf24e5",
      "placeholder": "​",
      "style": "IPY_MODEL_6efe23a4ce18453d8ecddb129507fceb",
      "value": " 124/124 [00:00&lt;00:00, 5.26kB/s]"
     }
    },
    "244c7315e54d44d79fc865b9cd1f703a": {
     "model_module": "@jupyter-widgets/controls",
     "model_module_version": "1.5.0",
     "model_name": "HTMLModel",
     "state": {
      "_dom_classes": [],
      "_model_module": "@jupyter-widgets/controls",
      "_model_module_version": "1.5.0",
      "_model_name": "HTMLModel",
      "_view_count": null,
      "_view_module": "@jupyter-widgets/controls",
      "_view_module_version": "1.5.0",
      "_view_name": "HTMLView",
      "description": "",
      "description_tooltip": null,
      "layout": "IPY_MODEL_b2b9e3b816384dad87edc6265da9e109",
      "placeholder": "​",
      "style": "IPY_MODEL_c94ff12b42b84fc8a6ba1abc13736f1a",
      "value": "Downloading (…)neration_config.json: 100%"
     }
    },
    "2997140a062c43fda21a8de0be8cf8b4": {
     "model_module": "@jupyter-widgets/controls",
     "model_module_version": "1.5.0",
     "model_name": "ProgressStyleModel",
     "state": {
      "_model_module": "@jupyter-widgets/controls",
      "_model_module_version": "1.5.0",
      "_model_name": "ProgressStyleModel",
      "_view_count": null,
      "_view_module": "@jupyter-widgets/base",
      "_view_module_version": "1.2.0",
      "_view_name": "StyleView",
      "bar_color": null,
      "description_width": ""
     }
    },
    "2b6b656f6f7f4d259e72a14272637cbe": {
     "model_module": "@jupyter-widgets/base",
     "model_module_version": "1.2.0",
     "model_name": "LayoutModel",
     "state": {
      "_model_module": "@jupyter-widgets/base",
      "_model_module_version": "1.2.0",
      "_model_name": "LayoutModel",
      "_view_count": null,
      "_view_module": "@jupyter-widgets/base",
      "_view_module_version": "1.2.0",
      "_view_name": "LayoutView",
      "align_content": null,
      "align_items": null,
      "align_self": null,
      "border": null,
      "bottom": null,
      "display": null,
      "flex": null,
      "flex_flow": null,
      "grid_area": null,
      "grid_auto_columns": null,
      "grid_auto_flow": null,
      "grid_auto_rows": null,
      "grid_column": null,
      "grid_gap": null,
      "grid_row": null,
      "grid_template_areas": null,
      "grid_template_columns": null,
      "grid_template_rows": null,
      "height": null,
      "justify_content": null,
      "justify_items": null,
      "left": null,
      "margin": null,
      "max_height": null,
      "max_width": null,
      "min_height": null,
      "min_width": null,
      "object_fit": null,
      "object_position": null,
      "order": null,
      "overflow": null,
      "overflow_x": null,
      "overflow_y": null,
      "padding": null,
      "right": null,
      "top": null,
      "visibility": null,
      "width": null
     }
    },
    "2cfcc73f1ca34e62a97e9f7453cc6c75": {
     "model_module": "@jupyter-widgets/controls",
     "model_module_version": "1.5.0",
     "model_name": "HBoxModel",
     "state": {
      "_dom_classes": [],
      "_model_module": "@jupyter-widgets/controls",
      "_model_module_version": "1.5.0",
      "_model_name": "HBoxModel",
      "_view_count": null,
      "_view_module": "@jupyter-widgets/controls",
      "_view_module_version": "1.5.0",
      "_view_name": "HBoxView",
      "box_style": "",
      "children": [
       "IPY_MODEL_94e730cac8754920ba23e9fc450e3832",
       "IPY_MODEL_e06a85abca7b452ab6ff40c7d0caa63c",
       "IPY_MODEL_21c7c20a77044de3805d05225317170e"
      ],
      "layout": "IPY_MODEL_ee9345bf60fd4eebac1e9845ef8cf8bc"
     }
    },
    "2f8d61c5e6e946d1ad6a52b618c37ada": {
     "model_module": "@jupyter-widgets/base",
     "model_module_version": "1.2.0",
     "model_name": "LayoutModel",
     "state": {
      "_model_module": "@jupyter-widgets/base",
      "_model_module_version": "1.2.0",
      "_model_name": "LayoutModel",
      "_view_count": null,
      "_view_module": "@jupyter-widgets/base",
      "_view_module_version": "1.2.0",
      "_view_name": "LayoutView",
      "align_content": null,
      "align_items": null,
      "align_self": null,
      "border": null,
      "bottom": null,
      "display": null,
      "flex": null,
      "flex_flow": null,
      "grid_area": null,
      "grid_auto_columns": null,
      "grid_auto_flow": null,
      "grid_auto_rows": null,
      "grid_column": null,
      "grid_gap": null,
      "grid_row": null,
      "grid_template_areas": null,
      "grid_template_columns": null,
      "grid_template_rows": null,
      "height": null,
      "justify_content": null,
      "justify_items": null,
      "left": null,
      "margin": null,
      "max_height": null,
      "max_width": null,
      "min_height": null,
      "min_width": null,
      "object_fit": null,
      "object_position": null,
      "order": null,
      "overflow": null,
      "overflow_x": null,
      "overflow_y": null,
      "padding": null,
      "right": null,
      "top": null,
      "visibility": null,
      "width": null
     }
    },
    "30eae0badcc7486988763b8f0bc559e3": {
     "model_module": "@jupyter-widgets/controls",
     "model_module_version": "1.5.0",
     "model_name": "DescriptionStyleModel",
     "state": {
      "_model_module": "@jupyter-widgets/controls",
      "_model_module_version": "1.5.0",
      "_model_name": "DescriptionStyleModel",
      "_view_count": null,
      "_view_module": "@jupyter-widgets/base",
      "_view_module_version": "1.2.0",
      "_view_name": "StyleView",
      "description_width": ""
     }
    },
    "3708ed524dae4c50838c92fb3bab0e90": {
     "model_module": "@jupyter-widgets/controls",
     "model_module_version": "1.5.0",
     "model_name": "DescriptionStyleModel",
     "state": {
      "_model_module": "@jupyter-widgets/controls",
      "_model_module_version": "1.5.0",
      "_model_name": "DescriptionStyleModel",
      "_view_count": null,
      "_view_module": "@jupyter-widgets/base",
      "_view_module_version": "1.2.0",
      "_view_name": "StyleView",
      "description_width": ""
     }
    },
    "3913af87745e43fa905d674c23d87aa9": {
     "model_module": "@jupyter-widgets/base",
     "model_module_version": "1.2.0",
     "model_name": "LayoutModel",
     "state": {
      "_model_module": "@jupyter-widgets/base",
      "_model_module_version": "1.2.0",
      "_model_name": "LayoutModel",
      "_view_count": null,
      "_view_module": "@jupyter-widgets/base",
      "_view_module_version": "1.2.0",
      "_view_name": "LayoutView",
      "align_content": null,
      "align_items": null,
      "align_self": null,
      "border": null,
      "bottom": null,
      "display": null,
      "flex": null,
      "flex_flow": null,
      "grid_area": null,
      "grid_auto_columns": null,
      "grid_auto_flow": null,
      "grid_auto_rows": null,
      "grid_column": null,
      "grid_gap": null,
      "grid_row": null,
      "grid_template_areas": null,
      "grid_template_columns": null,
      "grid_template_rows": null,
      "height": null,
      "justify_content": null,
      "justify_items": null,
      "left": null,
      "margin": null,
      "max_height": null,
      "max_width": null,
      "min_height": null,
      "min_width": null,
      "object_fit": null,
      "object_position": null,
      "order": null,
      "overflow": null,
      "overflow_x": null,
      "overflow_y": null,
      "padding": null,
      "right": null,
      "top": null,
      "visibility": null,
      "width": null
     }
    },
    "4b3f138f93a3485e95cff1209067347c": {
     "model_module": "@jupyter-widgets/controls",
     "model_module_version": "1.5.0",
     "model_name": "DescriptionStyleModel",
     "state": {
      "_model_module": "@jupyter-widgets/controls",
      "_model_module_version": "1.5.0",
      "_model_name": "DescriptionStyleModel",
      "_view_count": null,
      "_view_module": "@jupyter-widgets/base",
      "_view_module_version": "1.2.0",
      "_view_name": "StyleView",
      "description_width": ""
     }
    },
    "4e00483f0c804ef0827ae2c24992f8d6": {
     "model_module": "@jupyter-widgets/controls",
     "model_module_version": "1.5.0",
     "model_name": "ProgressStyleModel",
     "state": {
      "_model_module": "@jupyter-widgets/controls",
      "_model_module_version": "1.5.0",
      "_model_name": "ProgressStyleModel",
      "_view_count": null,
      "_view_module": "@jupyter-widgets/base",
      "_view_module_version": "1.2.0",
      "_view_name": "StyleView",
      "bar_color": null,
      "description_width": ""
     }
    },
    "4e6d8bee10a14b118862ac1525a29104": {
     "model_module": "@jupyter-widgets/base",
     "model_module_version": "1.2.0",
     "model_name": "LayoutModel",
     "state": {
      "_model_module": "@jupyter-widgets/base",
      "_model_module_version": "1.2.0",
      "_model_name": "LayoutModel",
      "_view_count": null,
      "_view_module": "@jupyter-widgets/base",
      "_view_module_version": "1.2.0",
      "_view_name": "LayoutView",
      "align_content": null,
      "align_items": null,
      "align_self": null,
      "border": null,
      "bottom": null,
      "display": null,
      "flex": null,
      "flex_flow": null,
      "grid_area": null,
      "grid_auto_columns": null,
      "grid_auto_flow": null,
      "grid_auto_rows": null,
      "grid_column": null,
      "grid_gap": null,
      "grid_row": null,
      "grid_template_areas": null,
      "grid_template_columns": null,
      "grid_template_rows": null,
      "height": null,
      "justify_content": null,
      "justify_items": null,
      "left": null,
      "margin": null,
      "max_height": null,
      "max_width": null,
      "min_height": null,
      "min_width": null,
      "object_fit": null,
      "object_position": null,
      "order": null,
      "overflow": null,
      "overflow_x": null,
      "overflow_y": null,
      "padding": null,
      "right": null,
      "top": null,
      "visibility": null,
      "width": null
     }
    },
    "50c5fe276bd645efacffd594a9eaf8f7": {
     "model_module": "@jupyter-widgets/controls",
     "model_module_version": "1.5.0",
     "model_name": "ProgressStyleModel",
     "state": {
      "_model_module": "@jupyter-widgets/controls",
      "_model_module_version": "1.5.0",
      "_model_name": "ProgressStyleModel",
      "_view_count": null,
      "_view_module": "@jupyter-widgets/base",
      "_view_module_version": "1.2.0",
      "_view_name": "StyleView",
      "bar_color": null,
      "description_width": ""
     }
    },
    "550698fb5d3e430ca5b53d8d724736c4": {
     "model_module": "@jupyter-widgets/controls",
     "model_module_version": "1.5.0",
     "model_name": "HTMLModel",
     "state": {
      "_dom_classes": [],
      "_model_module": "@jupyter-widgets/controls",
      "_model_module_version": "1.5.0",
      "_model_name": "HTMLModel",
      "_view_count": null,
      "_view_module": "@jupyter-widgets/controls",
      "_view_module_version": "1.5.0",
      "_view_name": "HTMLView",
      "description": "",
      "description_tooltip": null,
      "layout": "IPY_MODEL_098d4faa7d67453992f62c5462a35162",
      "placeholder": "​",
      "style": "IPY_MODEL_cd69c71267a44120996ec3d9c91979d5",
      "value": "Downloading pytorch_model.bin: 100%"
     }
    },
    "56a6e8a03e064c9ead29896b1855a978": {
     "model_module": "@jupyter-widgets/controls",
     "model_module_version": "1.5.0",
     "model_name": "FloatProgressModel",
     "state": {
      "_dom_classes": [],
      "_model_module": "@jupyter-widgets/controls",
      "_model_module_version": "1.5.0",
      "_model_name": "FloatProgressModel",
      "_view_count": null,
      "_view_module": "@jupyter-widgets/controls",
      "_view_module_version": "1.5.0",
      "_view_name": "ProgressView",
      "bar_style": "success",
      "description": "",
      "description_tooltip": null,
      "layout": "IPY_MODEL_cb7ebac2fe97427c92dd7c9f44d2c419",
      "max": 124,
      "min": 0,
      "orientation": "horizontal",
      "style": "IPY_MODEL_50c5fe276bd645efacffd594a9eaf8f7",
      "value": 124
     }
    },
    "5a57a9ffe1284da99181b098f20b858f": {
     "model_module": "@jupyter-widgets/controls",
     "model_module_version": "1.5.0",
     "model_name": "HTMLModel",
     "state": {
      "_dom_classes": [],
      "_model_module": "@jupyter-widgets/controls",
      "_model_module_version": "1.5.0",
      "_model_name": "HTMLModel",
      "_view_count": null,
      "_view_module": "@jupyter-widgets/controls",
      "_view_module_version": "1.5.0",
      "_view_name": "HTMLView",
      "description": "",
      "description_tooltip": null,
      "layout": "IPY_MODEL_4e6d8bee10a14b118862ac1525a29104",
      "placeholder": "​",
      "style": "IPY_MODEL_c8f7ccdd681346cfb80348e33a16f6b2",
      "value": " 456k/456k [00:00&lt;00:00, 514kB/s]"
     }
    },
    "5cff5c73ba0344db83f23f321d95deba": {
     "model_module": "@jupyter-widgets/controls",
     "model_module_version": "1.5.0",
     "model_name": "HTMLModel",
     "state": {
      "_dom_classes": [],
      "_model_module": "@jupyter-widgets/controls",
      "_model_module_version": "1.5.0",
      "_model_name": "HTMLModel",
      "_view_count": null,
      "_view_module": "@jupyter-widgets/controls",
      "_view_module_version": "1.5.0",
      "_view_name": "HTMLView",
      "description": "",
      "description_tooltip": null,
      "layout": "IPY_MODEL_fbd4624c4506488ca1059382780ea587",
      "placeholder": "​",
      "style": "IPY_MODEL_c3ba93bd548a486fa3fe2a53ffd3c819",
      "value": " 548M/548M [00:01&lt;00:00, 289MB/s]"
     }
    },
    "642202dc36f249d1b4c19e60f5bf24e5": {
     "model_module": "@jupyter-widgets/base",
     "model_module_version": "1.2.0",
     "model_name": "LayoutModel",
     "state": {
      "_model_module": "@jupyter-widgets/base",
      "_model_module_version": "1.2.0",
      "_model_name": "LayoutModel",
      "_view_count": null,
      "_view_module": "@jupyter-widgets/base",
      "_view_module_version": "1.2.0",
      "_view_name": "LayoutView",
      "align_content": null,
      "align_items": null,
      "align_self": null,
      "border": null,
      "bottom": null,
      "display": null,
      "flex": null,
      "flex_flow": null,
      "grid_area": null,
      "grid_auto_columns": null,
      "grid_auto_flow": null,
      "grid_auto_rows": null,
      "grid_column": null,
      "grid_gap": null,
      "grid_row": null,
      "grid_template_areas": null,
      "grid_template_columns": null,
      "grid_template_rows": null,
      "height": null,
      "justify_content": null,
      "justify_items": null,
      "left": null,
      "margin": null,
      "max_height": null,
      "max_width": null,
      "min_height": null,
      "min_width": null,
      "object_fit": null,
      "object_position": null,
      "order": null,
      "overflow": null,
      "overflow_x": null,
      "overflow_y": null,
      "padding": null,
      "right": null,
      "top": null,
      "visibility": null,
      "width": null
     }
    },
    "663be58549504ba5a87698681a408ceb": {
     "model_module": "@jupyter-widgets/controls",
     "model_module_version": "1.5.0",
     "model_name": "FloatProgressModel",
     "state": {
      "_dom_classes": [],
      "_model_module": "@jupyter-widgets/controls",
      "_model_module_version": "1.5.0",
      "_model_name": "FloatProgressModel",
      "_view_count": null,
      "_view_module": "@jupyter-widgets/controls",
      "_view_module_version": "1.5.0",
      "_view_name": "ProgressView",
      "bar_style": "success",
      "description": "",
      "description_tooltip": null,
      "layout": "IPY_MODEL_2f8d61c5e6e946d1ad6a52b618c37ada",
      "max": 1042301,
      "min": 0,
      "orientation": "horizontal",
      "style": "IPY_MODEL_4e00483f0c804ef0827ae2c24992f8d6",
      "value": 1042301
     }
    },
    "681b4e54c27641b894218f9cf6456437": {
     "model_module": "@jupyter-widgets/controls",
     "model_module_version": "1.5.0",
     "model_name": "HBoxModel",
     "state": {
      "_dom_classes": [],
      "_model_module": "@jupyter-widgets/controls",
      "_model_module_version": "1.5.0",
      "_model_name": "HBoxModel",
      "_view_count": null,
      "_view_module": "@jupyter-widgets/controls",
      "_view_module_version": "1.5.0",
      "_view_name": "HBoxView",
      "box_style": "",
      "children": [
       "IPY_MODEL_244c7315e54d44d79fc865b9cd1f703a",
       "IPY_MODEL_56a6e8a03e064c9ead29896b1855a978",
       "IPY_MODEL_222f385784c24a0c905374fc36bf3a83"
      ],
      "layout": "IPY_MODEL_3913af87745e43fa905d674c23d87aa9"
     }
    },
    "6a4fb299c6e1473a9f7565cf291d5f64": {
     "model_module": "@jupyter-widgets/base",
     "model_module_version": "1.2.0",
     "model_name": "LayoutModel",
     "state": {
      "_model_module": "@jupyter-widgets/base",
      "_model_module_version": "1.2.0",
      "_model_name": "LayoutModel",
      "_view_count": null,
      "_view_module": "@jupyter-widgets/base",
      "_view_module_version": "1.2.0",
      "_view_name": "LayoutView",
      "align_content": null,
      "align_items": null,
      "align_self": null,
      "border": null,
      "bottom": null,
      "display": null,
      "flex": null,
      "flex_flow": null,
      "grid_area": null,
      "grid_auto_columns": null,
      "grid_auto_flow": null,
      "grid_auto_rows": null,
      "grid_column": null,
      "grid_gap": null,
      "grid_row": null,
      "grid_template_areas": null,
      "grid_template_columns": null,
      "grid_template_rows": null,
      "height": null,
      "justify_content": null,
      "justify_items": null,
      "left": null,
      "margin": null,
      "max_height": null,
      "max_width": null,
      "min_height": null,
      "min_width": null,
      "object_fit": null,
      "object_position": null,
      "order": null,
      "overflow": null,
      "overflow_x": null,
      "overflow_y": null,
      "padding": null,
      "right": null,
      "top": null,
      "visibility": null,
      "width": null
     }
    },
    "6efe23a4ce18453d8ecddb129507fceb": {
     "model_module": "@jupyter-widgets/controls",
     "model_module_version": "1.5.0",
     "model_name": "DescriptionStyleModel",
     "state": {
      "_model_module": "@jupyter-widgets/controls",
      "_model_module_version": "1.5.0",
      "_model_name": "DescriptionStyleModel",
      "_view_count": null,
      "_view_module": "@jupyter-widgets/base",
      "_view_module_version": "1.2.0",
      "_view_name": "StyleView",
      "description_width": ""
     }
    },
    "6f93d3dfda19445f9408605798f696fb": {
     "model_module": "@jupyter-widgets/controls",
     "model_module_version": "1.5.0",
     "model_name": "DescriptionStyleModel",
     "state": {
      "_model_module": "@jupyter-widgets/controls",
      "_model_module_version": "1.5.0",
      "_model_name": "DescriptionStyleModel",
      "_view_count": null,
      "_view_module": "@jupyter-widgets/base",
      "_view_module_version": "1.2.0",
      "_view_name": "StyleView",
      "description_width": ""
     }
    },
    "75fd48170fb54f1e963be6a07789f489": {
     "model_module": "@jupyter-widgets/base",
     "model_module_version": "1.2.0",
     "model_name": "LayoutModel",
     "state": {
      "_model_module": "@jupyter-widgets/base",
      "_model_module_version": "1.2.0",
      "_model_name": "LayoutModel",
      "_view_count": null,
      "_view_module": "@jupyter-widgets/base",
      "_view_module_version": "1.2.0",
      "_view_name": "LayoutView",
      "align_content": null,
      "align_items": null,
      "align_self": null,
      "border": null,
      "bottom": null,
      "display": null,
      "flex": null,
      "flex_flow": null,
      "grid_area": null,
      "grid_auto_columns": null,
      "grid_auto_flow": null,
      "grid_auto_rows": null,
      "grid_column": null,
      "grid_gap": null,
      "grid_row": null,
      "grid_template_areas": null,
      "grid_template_columns": null,
      "grid_template_rows": null,
      "height": null,
      "justify_content": null,
      "justify_items": null,
      "left": null,
      "margin": null,
      "max_height": null,
      "max_width": null,
      "min_height": null,
      "min_width": null,
      "object_fit": null,
      "object_position": null,
      "order": null,
      "overflow": null,
      "overflow_x": null,
      "overflow_y": null,
      "padding": null,
      "right": null,
      "top": null,
      "visibility": null,
      "width": null
     }
    },
    "763dc32ff2c64bb9b1a4e28a225c9508": {
     "model_module": "@jupyter-widgets/controls",
     "model_module_version": "1.5.0",
     "model_name": "HBoxModel",
     "state": {
      "_dom_classes": [],
      "_model_module": "@jupyter-widgets/controls",
      "_model_module_version": "1.5.0",
      "_model_name": "HBoxModel",
      "_view_count": null,
      "_view_module": "@jupyter-widgets/controls",
      "_view_module_version": "1.5.0",
      "_view_name": "HBoxView",
      "box_style": "",
      "children": [
       "IPY_MODEL_550698fb5d3e430ca5b53d8d724736c4",
       "IPY_MODEL_80f62953fc3941908cfc555c1ce83ad1",
       "IPY_MODEL_5cff5c73ba0344db83f23f321d95deba"
      ],
      "layout": "IPY_MODEL_1dc803a8decd4d69b08645d5da4ec1c6"
     }
    },
    "77002b2b37f8482db072a675585ad9c9": {
     "model_module": "@jupyter-widgets/controls",
     "model_module_version": "1.5.0",
     "model_name": "HTMLModel",
     "state": {
      "_dom_classes": [],
      "_model_module": "@jupyter-widgets/controls",
      "_model_module_version": "1.5.0",
      "_model_name": "HTMLModel",
      "_view_count": null,
      "_view_module": "@jupyter-widgets/controls",
      "_view_module_version": "1.5.0",
      "_view_name": "HTMLView",
      "description": "",
      "description_tooltip": null,
      "layout": "IPY_MODEL_1f7e3118148d45c3ad1697d7321f8ec0",
      "placeholder": "​",
      "style": "IPY_MODEL_3708ed524dae4c50838c92fb3bab0e90",
      "value": "Downloading (…)olve/main/vocab.json: 100%"
     }
    },
    "80f62953fc3941908cfc555c1ce83ad1": {
     "model_module": "@jupyter-widgets/controls",
     "model_module_version": "1.5.0",
     "model_name": "FloatProgressModel",
     "state": {
      "_dom_classes": [],
      "_model_module": "@jupyter-widgets/controls",
      "_model_module_version": "1.5.0",
      "_model_name": "FloatProgressModel",
      "_view_count": null,
      "_view_module": "@jupyter-widgets/controls",
      "_view_module_version": "1.5.0",
      "_view_name": "ProgressView",
      "bar_style": "success",
      "description": "",
      "description_tooltip": null,
      "layout": "IPY_MODEL_75fd48170fb54f1e963be6a07789f489",
      "max": 548118077,
      "min": 0,
      "orientation": "horizontal",
      "style": "IPY_MODEL_2997140a062c43fda21a8de0be8cf8b4",
      "value": 548118077
     }
    },
    "850bc1258ff949e9b3a0984ea13d58f2": {
     "model_module": "@jupyter-widgets/base",
     "model_module_version": "1.2.0",
     "model_name": "LayoutModel",
     "state": {
      "_model_module": "@jupyter-widgets/base",
      "_model_module_version": "1.2.0",
      "_model_name": "LayoutModel",
      "_view_count": null,
      "_view_module": "@jupyter-widgets/base",
      "_view_module_version": "1.2.0",
      "_view_name": "LayoutView",
      "align_content": null,
      "align_items": null,
      "align_self": null,
      "border": null,
      "bottom": null,
      "display": null,
      "flex": null,
      "flex_flow": null,
      "grid_area": null,
      "grid_auto_columns": null,
      "grid_auto_flow": null,
      "grid_auto_rows": null,
      "grid_column": null,
      "grid_gap": null,
      "grid_row": null,
      "grid_template_areas": null,
      "grid_template_columns": null,
      "grid_template_rows": null,
      "height": null,
      "justify_content": null,
      "justify_items": null,
      "left": null,
      "margin": null,
      "max_height": null,
      "max_width": null,
      "min_height": null,
      "min_width": null,
      "object_fit": null,
      "object_position": null,
      "order": null,
      "overflow": null,
      "overflow_x": null,
      "overflow_y": null,
      "padding": null,
      "right": null,
      "top": null,
      "visibility": null,
      "width": null
     }
    },
    "8630cbaa217846628d8c6963ea5694d4": {
     "model_module": "@jupyter-widgets/base",
     "model_module_version": "1.2.0",
     "model_name": "LayoutModel",
     "state": {
      "_model_module": "@jupyter-widgets/base",
      "_model_module_version": "1.2.0",
      "_model_name": "LayoutModel",
      "_view_count": null,
      "_view_module": "@jupyter-widgets/base",
      "_view_module_version": "1.2.0",
      "_view_name": "LayoutView",
      "align_content": null,
      "align_items": null,
      "align_self": null,
      "border": null,
      "bottom": null,
      "display": null,
      "flex": null,
      "flex_flow": null,
      "grid_area": null,
      "grid_auto_columns": null,
      "grid_auto_flow": null,
      "grid_auto_rows": null,
      "grid_column": null,
      "grid_gap": null,
      "grid_row": null,
      "grid_template_areas": null,
      "grid_template_columns": null,
      "grid_template_rows": null,
      "height": null,
      "justify_content": null,
      "justify_items": null,
      "left": null,
      "margin": null,
      "max_height": null,
      "max_width": null,
      "min_height": null,
      "min_width": null,
      "object_fit": null,
      "object_position": null,
      "order": null,
      "overflow": null,
      "overflow_x": null,
      "overflow_y": null,
      "padding": null,
      "right": null,
      "top": null,
      "visibility": null,
      "width": null
     }
    },
    "893f62442b1748a9be060ea1aa456a6a": {
     "model_module": "@jupyter-widgets/controls",
     "model_module_version": "1.5.0",
     "model_name": "HBoxModel",
     "state": {
      "_dom_classes": [],
      "_model_module": "@jupyter-widgets/controls",
      "_model_module_version": "1.5.0",
      "_model_name": "HBoxModel",
      "_view_count": null,
      "_view_module": "@jupyter-widgets/controls",
      "_view_module_version": "1.5.0",
      "_view_name": "HBoxView",
      "box_style": "",
      "children": [
       "IPY_MODEL_f30b0553a7f54ec9b2bec4d6d18d8997",
       "IPY_MODEL_9139c6f36497450bb0e710d48183831a",
       "IPY_MODEL_5a57a9ffe1284da99181b098f20b858f"
      ],
      "layout": "IPY_MODEL_b073d51805364e79aa5c367c1e8d173b"
     }
    },
    "9139c6f36497450bb0e710d48183831a": {
     "model_module": "@jupyter-widgets/controls",
     "model_module_version": "1.5.0",
     "model_name": "FloatProgressModel",
     "state": {
      "_dom_classes": [],
      "_model_module": "@jupyter-widgets/controls",
      "_model_module_version": "1.5.0",
      "_model_name": "FloatProgressModel",
      "_view_count": null,
      "_view_module": "@jupyter-widgets/controls",
      "_view_module_version": "1.5.0",
      "_view_name": "ProgressView",
      "bar_style": "success",
      "description": "",
      "description_tooltip": null,
      "layout": "IPY_MODEL_850bc1258ff949e9b3a0984ea13d58f2",
      "max": 456318,
      "min": 0,
      "orientation": "horizontal",
      "style": "IPY_MODEL_2066a23a01944d569d6112ce6c794ada",
      "value": 456318
     }
    },
    "94e730cac8754920ba23e9fc450e3832": {
     "model_module": "@jupyter-widgets/controls",
     "model_module_version": "1.5.0",
     "model_name": "HTMLModel",
     "state": {
      "_dom_classes": [],
      "_model_module": "@jupyter-widgets/controls",
      "_model_module_version": "1.5.0",
      "_model_name": "HTMLModel",
      "_view_count": null,
      "_view_module": "@jupyter-widgets/controls",
      "_view_module_version": "1.5.0",
      "_view_name": "HTMLView",
      "description": "",
      "description_tooltip": null,
      "layout": "IPY_MODEL_6a4fb299c6e1473a9f7565cf291d5f64",
      "placeholder": "​",
      "style": "IPY_MODEL_4b3f138f93a3485e95cff1209067347c",
      "value": "Downloading (…)lve/main/config.json: 100%"
     }
    },
    "9ab1a1b4d87049d48a06fd5153238b13": {
     "model_module": "@jupyter-widgets/controls",
     "model_module_version": "1.5.0",
     "model_name": "DescriptionStyleModel",
     "state": {
      "_model_module": "@jupyter-widgets/controls",
      "_model_module_version": "1.5.0",
      "_model_name": "DescriptionStyleModel",
      "_view_count": null,
      "_view_module": "@jupyter-widgets/base",
      "_view_module_version": "1.2.0",
      "_view_name": "StyleView",
      "description_width": ""
     }
    },
    "a747e0d9ff8444f59bebea50619aac78": {
     "model_module": "@jupyter-widgets/controls",
     "model_module_version": "1.5.0",
     "model_name": "HTMLModel",
     "state": {
      "_dom_classes": [],
      "_model_module": "@jupyter-widgets/controls",
      "_model_module_version": "1.5.0",
      "_model_name": "HTMLModel",
      "_view_count": null,
      "_view_module": "@jupyter-widgets/controls",
      "_view_module_version": "1.5.0",
      "_view_name": "HTMLView",
      "description": "",
      "description_tooltip": null,
      "layout": "IPY_MODEL_059088e3b8b8416a8faba5645d1af445",
      "placeholder": "​",
      "style": "IPY_MODEL_6f93d3dfda19445f9408605798f696fb",
      "value": " 1.04M/1.04M [00:01&lt;00:00, 912kB/s]"
     }
    },
    "b073d51805364e79aa5c367c1e8d173b": {
     "model_module": "@jupyter-widgets/base",
     "model_module_version": "1.2.0",
     "model_name": "LayoutModel",
     "state": {
      "_model_module": "@jupyter-widgets/base",
      "_model_module_version": "1.2.0",
      "_model_name": "LayoutModel",
      "_view_count": null,
      "_view_module": "@jupyter-widgets/base",
      "_view_module_version": "1.2.0",
      "_view_name": "LayoutView",
      "align_content": null,
      "align_items": null,
      "align_self": null,
      "border": null,
      "bottom": null,
      "display": null,
      "flex": null,
      "flex_flow": null,
      "grid_area": null,
      "grid_auto_columns": null,
      "grid_auto_flow": null,
      "grid_auto_rows": null,
      "grid_column": null,
      "grid_gap": null,
      "grid_row": null,
      "grid_template_areas": null,
      "grid_template_columns": null,
      "grid_template_rows": null,
      "height": null,
      "justify_content": null,
      "justify_items": null,
      "left": null,
      "margin": null,
      "max_height": null,
      "max_width": null,
      "min_height": null,
      "min_width": null,
      "object_fit": null,
      "object_position": null,
      "order": null,
      "overflow": null,
      "overflow_x": null,
      "overflow_y": null,
      "padding": null,
      "right": null,
      "top": null,
      "visibility": null,
      "width": null
     }
    },
    "b2b9e3b816384dad87edc6265da9e109": {
     "model_module": "@jupyter-widgets/base",
     "model_module_version": "1.2.0",
     "model_name": "LayoutModel",
     "state": {
      "_model_module": "@jupyter-widgets/base",
      "_model_module_version": "1.2.0",
      "_model_name": "LayoutModel",
      "_view_count": null,
      "_view_module": "@jupyter-widgets/base",
      "_view_module_version": "1.2.0",
      "_view_name": "LayoutView",
      "align_content": null,
      "align_items": null,
      "align_self": null,
      "border": null,
      "bottom": null,
      "display": null,
      "flex": null,
      "flex_flow": null,
      "grid_area": null,
      "grid_auto_columns": null,
      "grid_auto_flow": null,
      "grid_auto_rows": null,
      "grid_column": null,
      "grid_gap": null,
      "grid_row": null,
      "grid_template_areas": null,
      "grid_template_columns": null,
      "grid_template_rows": null,
      "height": null,
      "justify_content": null,
      "justify_items": null,
      "left": null,
      "margin": null,
      "max_height": null,
      "max_width": null,
      "min_height": null,
      "min_width": null,
      "object_fit": null,
      "object_position": null,
      "order": null,
      "overflow": null,
      "overflow_x": null,
      "overflow_y": null,
      "padding": null,
      "right": null,
      "top": null,
      "visibility": null,
      "width": null
     }
    },
    "c3ba93bd548a486fa3fe2a53ffd3c819": {
     "model_module": "@jupyter-widgets/controls",
     "model_module_version": "1.5.0",
     "model_name": "DescriptionStyleModel",
     "state": {
      "_model_module": "@jupyter-widgets/controls",
      "_model_module_version": "1.5.0",
      "_model_name": "DescriptionStyleModel",
      "_view_count": null,
      "_view_module": "@jupyter-widgets/base",
      "_view_module_version": "1.2.0",
      "_view_name": "StyleView",
      "description_width": ""
     }
    },
    "c8f7ccdd681346cfb80348e33a16f6b2": {
     "model_module": "@jupyter-widgets/controls",
     "model_module_version": "1.5.0",
     "model_name": "DescriptionStyleModel",
     "state": {
      "_model_module": "@jupyter-widgets/controls",
      "_model_module_version": "1.5.0",
      "_model_name": "DescriptionStyleModel",
      "_view_count": null,
      "_view_module": "@jupyter-widgets/base",
      "_view_module_version": "1.2.0",
      "_view_name": "StyleView",
      "description_width": ""
     }
    },
    "c94ff12b42b84fc8a6ba1abc13736f1a": {
     "model_module": "@jupyter-widgets/controls",
     "model_module_version": "1.5.0",
     "model_name": "DescriptionStyleModel",
     "state": {
      "_model_module": "@jupyter-widgets/controls",
      "_model_module_version": "1.5.0",
      "_model_name": "DescriptionStyleModel",
      "_view_count": null,
      "_view_module": "@jupyter-widgets/base",
      "_view_module_version": "1.2.0",
      "_view_name": "StyleView",
      "description_width": ""
     }
    },
    "cb7ebac2fe97427c92dd7c9f44d2c419": {
     "model_module": "@jupyter-widgets/base",
     "model_module_version": "1.2.0",
     "model_name": "LayoutModel",
     "state": {
      "_model_module": "@jupyter-widgets/base",
      "_model_module_version": "1.2.0",
      "_model_name": "LayoutModel",
      "_view_count": null,
      "_view_module": "@jupyter-widgets/base",
      "_view_module_version": "1.2.0",
      "_view_name": "LayoutView",
      "align_content": null,
      "align_items": null,
      "align_self": null,
      "border": null,
      "bottom": null,
      "display": null,
      "flex": null,
      "flex_flow": null,
      "grid_area": null,
      "grid_auto_columns": null,
      "grid_auto_flow": null,
      "grid_auto_rows": null,
      "grid_column": null,
      "grid_gap": null,
      "grid_row": null,
      "grid_template_areas": null,
      "grid_template_columns": null,
      "grid_template_rows": null,
      "height": null,
      "justify_content": null,
      "justify_items": null,
      "left": null,
      "margin": null,
      "max_height": null,
      "max_width": null,
      "min_height": null,
      "min_width": null,
      "object_fit": null,
      "object_position": null,
      "order": null,
      "overflow": null,
      "overflow_x": null,
      "overflow_y": null,
      "padding": null,
      "right": null,
      "top": null,
      "visibility": null,
      "width": null
     }
    },
    "cd69c71267a44120996ec3d9c91979d5": {
     "model_module": "@jupyter-widgets/controls",
     "model_module_version": "1.5.0",
     "model_name": "DescriptionStyleModel",
     "state": {
      "_model_module": "@jupyter-widgets/controls",
      "_model_module_version": "1.5.0",
      "_model_name": "DescriptionStyleModel",
      "_view_count": null,
      "_view_module": "@jupyter-widgets/base",
      "_view_module_version": "1.2.0",
      "_view_name": "StyleView",
      "description_width": ""
     }
    },
    "e06a85abca7b452ab6ff40c7d0caa63c": {
     "model_module": "@jupyter-widgets/controls",
     "model_module_version": "1.5.0",
     "model_name": "FloatProgressModel",
     "state": {
      "_dom_classes": [],
      "_model_module": "@jupyter-widgets/controls",
      "_model_module_version": "1.5.0",
      "_model_name": "FloatProgressModel",
      "_view_count": null,
      "_view_module": "@jupyter-widgets/controls",
      "_view_module_version": "1.5.0",
      "_view_name": "ProgressView",
      "bar_style": "success",
      "description": "",
      "description_tooltip": null,
      "layout": "IPY_MODEL_2b6b656f6f7f4d259e72a14272637cbe",
      "max": 665,
      "min": 0,
      "orientation": "horizontal",
      "style": "IPY_MODEL_12b5d63803594e9486ea2d54d17c700e",
      "value": 665
     }
    },
    "e105959a550448d1b15a8ce5afc6e286": {
     "model_module": "@jupyter-widgets/base",
     "model_module_version": "1.2.0",
     "model_name": "LayoutModel",
     "state": {
      "_model_module": "@jupyter-widgets/base",
      "_model_module_version": "1.2.0",
      "_model_name": "LayoutModel",
      "_view_count": null,
      "_view_module": "@jupyter-widgets/base",
      "_view_module_version": "1.2.0",
      "_view_name": "LayoutView",
      "align_content": null,
      "align_items": null,
      "align_self": null,
      "border": null,
      "bottom": null,
      "display": null,
      "flex": null,
      "flex_flow": null,
      "grid_area": null,
      "grid_auto_columns": null,
      "grid_auto_flow": null,
      "grid_auto_rows": null,
      "grid_column": null,
      "grid_gap": null,
      "grid_row": null,
      "grid_template_areas": null,
      "grid_template_columns": null,
      "grid_template_rows": null,
      "height": null,
      "justify_content": null,
      "justify_items": null,
      "left": null,
      "margin": null,
      "max_height": null,
      "max_width": null,
      "min_height": null,
      "min_width": null,
      "object_fit": null,
      "object_position": null,
      "order": null,
      "overflow": null,
      "overflow_x": null,
      "overflow_y": null,
      "padding": null,
      "right": null,
      "top": null,
      "visibility": null,
      "width": null
     }
    },
    "ee9345bf60fd4eebac1e9845ef8cf8bc": {
     "model_module": "@jupyter-widgets/base",
     "model_module_version": "1.2.0",
     "model_name": "LayoutModel",
     "state": {
      "_model_module": "@jupyter-widgets/base",
      "_model_module_version": "1.2.0",
      "_model_name": "LayoutModel",
      "_view_count": null,
      "_view_module": "@jupyter-widgets/base",
      "_view_module_version": "1.2.0",
      "_view_name": "LayoutView",
      "align_content": null,
      "align_items": null,
      "align_self": null,
      "border": null,
      "bottom": null,
      "display": null,
      "flex": null,
      "flex_flow": null,
      "grid_area": null,
      "grid_auto_columns": null,
      "grid_auto_flow": null,
      "grid_auto_rows": null,
      "grid_column": null,
      "grid_gap": null,
      "grid_row": null,
      "grid_template_areas": null,
      "grid_template_columns": null,
      "grid_template_rows": null,
      "height": null,
      "justify_content": null,
      "justify_items": null,
      "left": null,
      "margin": null,
      "max_height": null,
      "max_width": null,
      "min_height": null,
      "min_width": null,
      "object_fit": null,
      "object_position": null,
      "order": null,
      "overflow": null,
      "overflow_x": null,
      "overflow_y": null,
      "padding": null,
      "right": null,
      "top": null,
      "visibility": null,
      "width": null
     }
    },
    "f30b0553a7f54ec9b2bec4d6d18d8997": {
     "model_module": "@jupyter-widgets/controls",
     "model_module_version": "1.5.0",
     "model_name": "HTMLModel",
     "state": {
      "_dom_classes": [],
      "_model_module": "@jupyter-widgets/controls",
      "_model_module_version": "1.5.0",
      "_model_name": "HTMLModel",
      "_view_count": null,
      "_view_module": "@jupyter-widgets/controls",
      "_view_module_version": "1.5.0",
      "_view_name": "HTMLView",
      "description": "",
      "description_tooltip": null,
      "layout": "IPY_MODEL_f6395682f1764db0961a2cfd647b2b9b",
      "placeholder": "​",
      "style": "IPY_MODEL_30eae0badcc7486988763b8f0bc559e3",
      "value": "Downloading (…)olve/main/merges.txt: 100%"
     }
    },
    "f6395682f1764db0961a2cfd647b2b9b": {
     "model_module": "@jupyter-widgets/base",
     "model_module_version": "1.2.0",
     "model_name": "LayoutModel",
     "state": {
      "_model_module": "@jupyter-widgets/base",
      "_model_module_version": "1.2.0",
      "_model_name": "LayoutModel",
      "_view_count": null,
      "_view_module": "@jupyter-widgets/base",
      "_view_module_version": "1.2.0",
      "_view_name": "LayoutView",
      "align_content": null,
      "align_items": null,
      "align_self": null,
      "border": null,
      "bottom": null,
      "display": null,
      "flex": null,
      "flex_flow": null,
      "grid_area": null,
      "grid_auto_columns": null,
      "grid_auto_flow": null,
      "grid_auto_rows": null,
      "grid_column": null,
      "grid_gap": null,
      "grid_row": null,
      "grid_template_areas": null,
      "grid_template_columns": null,
      "grid_template_rows": null,
      "height": null,
      "justify_content": null,
      "justify_items": null,
      "left": null,
      "margin": null,
      "max_height": null,
      "max_width": null,
      "min_height": null,
      "min_width": null,
      "object_fit": null,
      "object_position": null,
      "order": null,
      "overflow": null,
      "overflow_x": null,
      "overflow_y": null,
      "padding": null,
      "right": null,
      "top": null,
      "visibility": null,
      "width": null
     }
    },
    "fbd4624c4506488ca1059382780ea587": {
     "model_module": "@jupyter-widgets/base",
     "model_module_version": "1.2.0",
     "model_name": "LayoutModel",
     "state": {
      "_model_module": "@jupyter-widgets/base",
      "_model_module_version": "1.2.0",
      "_model_name": "LayoutModel",
      "_view_count": null,
      "_view_module": "@jupyter-widgets/base",
      "_view_module_version": "1.2.0",
      "_view_name": "LayoutView",
      "align_content": null,
      "align_items": null,
      "align_self": null,
      "border": null,
      "bottom": null,
      "display": null,
      "flex": null,
      "flex_flow": null,
      "grid_area": null,
      "grid_auto_columns": null,
      "grid_auto_flow": null,
      "grid_auto_rows": null,
      "grid_column": null,
      "grid_gap": null,
      "grid_row": null,
      "grid_template_areas": null,
      "grid_template_columns": null,
      "grid_template_rows": null,
      "height": null,
      "justify_content": null,
      "justify_items": null,
      "left": null,
      "margin": null,
      "max_height": null,
      "max_width": null,
      "min_height": null,
      "min_width": null,
      "object_fit": null,
      "object_position": null,
      "order": null,
      "overflow": null,
      "overflow_x": null,
      "overflow_y": null,
      "padding": null,
      "right": null,
      "top": null,
      "visibility": null,
      "width": null
     }
    }
   }
  }
 },
 "nbformat": 4,
 "nbformat_minor": 4
}
